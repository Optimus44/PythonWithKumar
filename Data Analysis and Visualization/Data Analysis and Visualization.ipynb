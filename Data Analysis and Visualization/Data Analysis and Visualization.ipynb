{
 "cells": [
  {
   "metadata": {
    "ExecuteTime": {
     "end_time": "2025-01-15T17:55:47.521456Z",
     "start_time": "2025-01-15T17:55:47.511270Z"
    }
   },
   "cell_type": "code",
   "source": "# Importing required package/Library",
   "id": "bd1b2eceb113859a",
   "outputs": [],
   "execution_count": 3
  },
  {
   "metadata": {
    "collapsed": true,
    "ExecuteTime": {
     "end_time": "2025-01-15T17:57:09.850619Z",
     "start_time": "2025-01-15T17:57:04.906841Z"
    }
   },
   "cell_type": "code",
   "source": [
    "import pandas as pd\n",
    "import matplotlib.pyplot as plt\n",
    "import seaborn\n",
    "import seaborn as sns\n"
   ],
   "id": "initial_id",
   "outputs": [],
   "execution_count": 4
  },
  {
   "metadata": {
    "ExecuteTime": {
     "end_time": "2025-01-15T17:57:28.140134Z",
     "start_time": "2025-01-15T17:57:28.128468Z"
    }
   },
   "cell_type": "code",
   "source": "# Loading the dataset",
   "id": "6f89cbc501ee29f2",
   "outputs": [],
   "execution_count": 6
  },
  {
   "metadata": {
    "ExecuteTime": {
     "end_time": "2025-01-15T17:57:33.190399Z",
     "start_time": "2025-01-15T17:57:33.179619Z"
    }
   },
   "cell_type": "code",
   "source": [
    "df = pd.read_csv('Student Python Final Marks.csv')\n",
    "df.head()"
   ],
   "id": "d89d3fc6c060b440",
   "outputs": [
    {
     "data": {
      "text/plain": [
       "   No  Students'IDs     Names  Assign 1/10       (Pandas)  Assign2/10  \\\n",
       "0   1        240001  Student1                         9.0         9.0   \n",
       "1   2        240002  Student2                         9.0         9.0   \n",
       "2   3        240003  Student3                         9.0         9.0   \n",
       "3   4        240004  Student4                         9.0         9.0   \n",
       "4   5        240005  Student5                         9.0         8.0   \n",
       "\n",
       "   In-Class Practical / 10  MidTerm Exam /30  Final Exam/40  \n",
       "0                      6.0              19.0           32.0  \n",
       "1                      5.0              15.0           22.0  \n",
       "2                      5.0              10.0           27.0  \n",
       "3                      6.0              16.0           30.0  \n",
       "4                      5.0              20.0           25.0  "
      ],
      "text/html": [
       "<div>\n",
       "<style scoped>\n",
       "    .dataframe tbody tr th:only-of-type {\n",
       "        vertical-align: middle;\n",
       "    }\n",
       "\n",
       "    .dataframe tbody tr th {\n",
       "        vertical-align: top;\n",
       "    }\n",
       "\n",
       "    .dataframe thead th {\n",
       "        text-align: right;\n",
       "    }\n",
       "</style>\n",
       "<table border=\"1\" class=\"dataframe\">\n",
       "  <thead>\n",
       "    <tr style=\"text-align: right;\">\n",
       "      <th></th>\n",
       "      <th>No</th>\n",
       "      <th>Students'IDs</th>\n",
       "      <th>Names</th>\n",
       "      <th>Assign 1/10       (Pandas)</th>\n",
       "      <th>Assign2/10</th>\n",
       "      <th>In-Class Practical / 10</th>\n",
       "      <th>MidTerm Exam /30</th>\n",
       "      <th>Final Exam/40</th>\n",
       "    </tr>\n",
       "  </thead>\n",
       "  <tbody>\n",
       "    <tr>\n",
       "      <th>0</th>\n",
       "      <td>1</td>\n",
       "      <td>240001</td>\n",
       "      <td>Student1</td>\n",
       "      <td>9.0</td>\n",
       "      <td>9.0</td>\n",
       "      <td>6.0</td>\n",
       "      <td>19.0</td>\n",
       "      <td>32.0</td>\n",
       "    </tr>\n",
       "    <tr>\n",
       "      <th>1</th>\n",
       "      <td>2</td>\n",
       "      <td>240002</td>\n",
       "      <td>Student2</td>\n",
       "      <td>9.0</td>\n",
       "      <td>9.0</td>\n",
       "      <td>5.0</td>\n",
       "      <td>15.0</td>\n",
       "      <td>22.0</td>\n",
       "    </tr>\n",
       "    <tr>\n",
       "      <th>2</th>\n",
       "      <td>3</td>\n",
       "      <td>240003</td>\n",
       "      <td>Student3</td>\n",
       "      <td>9.0</td>\n",
       "      <td>9.0</td>\n",
       "      <td>5.0</td>\n",
       "      <td>10.0</td>\n",
       "      <td>27.0</td>\n",
       "    </tr>\n",
       "    <tr>\n",
       "      <th>3</th>\n",
       "      <td>4</td>\n",
       "      <td>240004</td>\n",
       "      <td>Student4</td>\n",
       "      <td>9.0</td>\n",
       "      <td>9.0</td>\n",
       "      <td>6.0</td>\n",
       "      <td>16.0</td>\n",
       "      <td>30.0</td>\n",
       "    </tr>\n",
       "    <tr>\n",
       "      <th>4</th>\n",
       "      <td>5</td>\n",
       "      <td>240005</td>\n",
       "      <td>Student5</td>\n",
       "      <td>9.0</td>\n",
       "      <td>8.0</td>\n",
       "      <td>5.0</td>\n",
       "      <td>20.0</td>\n",
       "      <td>25.0</td>\n",
       "    </tr>\n",
       "  </tbody>\n",
       "</table>\n",
       "</div>"
      ]
     },
     "execution_count": 7,
     "metadata": {},
     "output_type": "execute_result"
    }
   ],
   "execution_count": 7
  },
  {
   "metadata": {
    "ExecuteTime": {
     "end_time": "2025-01-15T17:58:07.611875Z",
     "start_time": "2025-01-15T17:58:07.601565Z"
    }
   },
   "cell_type": "code",
   "source": "# Copying the original dataframe in df1\n",
   "id": "38f371c9bc69ee36",
   "outputs": [],
   "execution_count": 8
  },
  {
   "metadata": {
    "ExecuteTime": {
     "end_time": "2025-01-15T17:58:15.670966Z",
     "start_time": "2025-01-15T17:58:15.663978Z"
    }
   },
   "cell_type": "code",
   "source": "df1 = df.copy()",
   "id": "c4e34ac8c5af5537",
   "outputs": [],
   "execution_count": 9
  },
  {
   "metadata": {
    "ExecuteTime": {
     "end_time": "2025-01-15T17:58:27.005151Z",
     "start_time": "2025-01-15T17:58:26.999888Z"
    }
   },
   "cell_type": "code",
   "source": "# Understanding the data",
   "id": "16dfd63a37bf5a76",
   "outputs": [],
   "execution_count": 10
  },
  {
   "metadata": {
    "ExecuteTime": {
     "end_time": "2025-01-15T17:59:29.500713Z",
     "start_time": "2025-01-15T17:59:29.484899Z"
    }
   },
   "cell_type": "code",
   "source": [
    "# First few rows of the DataFrame\n",
    "df1.head()"
   ],
   "id": "bbc7652c3606ebea",
   "outputs": [
    {
     "data": {
      "text/plain": [
       "   No  Students'IDs     Names  Assign 1/10       (Pandas)  Assign2/10  \\\n",
       "0   1        240001  Student1                         9.0         9.0   \n",
       "1   2        240002  Student2                         9.0         9.0   \n",
       "2   3        240003  Student3                         9.0         9.0   \n",
       "3   4        240004  Student4                         9.0         9.0   \n",
       "4   5        240005  Student5                         9.0         8.0   \n",
       "\n",
       "   In-Class Practical / 10  MidTerm Exam /30  Final Exam/40  \n",
       "0                      6.0              19.0           32.0  \n",
       "1                      5.0              15.0           22.0  \n",
       "2                      5.0              10.0           27.0  \n",
       "3                      6.0              16.0           30.0  \n",
       "4                      5.0              20.0           25.0  "
      ],
      "text/html": [
       "<div>\n",
       "<style scoped>\n",
       "    .dataframe tbody tr th:only-of-type {\n",
       "        vertical-align: middle;\n",
       "    }\n",
       "\n",
       "    .dataframe tbody tr th {\n",
       "        vertical-align: top;\n",
       "    }\n",
       "\n",
       "    .dataframe thead th {\n",
       "        text-align: right;\n",
       "    }\n",
       "</style>\n",
       "<table border=\"1\" class=\"dataframe\">\n",
       "  <thead>\n",
       "    <tr style=\"text-align: right;\">\n",
       "      <th></th>\n",
       "      <th>No</th>\n",
       "      <th>Students'IDs</th>\n",
       "      <th>Names</th>\n",
       "      <th>Assign 1/10       (Pandas)</th>\n",
       "      <th>Assign2/10</th>\n",
       "      <th>In-Class Practical / 10</th>\n",
       "      <th>MidTerm Exam /30</th>\n",
       "      <th>Final Exam/40</th>\n",
       "    </tr>\n",
       "  </thead>\n",
       "  <tbody>\n",
       "    <tr>\n",
       "      <th>0</th>\n",
       "      <td>1</td>\n",
       "      <td>240001</td>\n",
       "      <td>Student1</td>\n",
       "      <td>9.0</td>\n",
       "      <td>9.0</td>\n",
       "      <td>6.0</td>\n",
       "      <td>19.0</td>\n",
       "      <td>32.0</td>\n",
       "    </tr>\n",
       "    <tr>\n",
       "      <th>1</th>\n",
       "      <td>2</td>\n",
       "      <td>240002</td>\n",
       "      <td>Student2</td>\n",
       "      <td>9.0</td>\n",
       "      <td>9.0</td>\n",
       "      <td>5.0</td>\n",
       "      <td>15.0</td>\n",
       "      <td>22.0</td>\n",
       "    </tr>\n",
       "    <tr>\n",
       "      <th>2</th>\n",
       "      <td>3</td>\n",
       "      <td>240003</td>\n",
       "      <td>Student3</td>\n",
       "      <td>9.0</td>\n",
       "      <td>9.0</td>\n",
       "      <td>5.0</td>\n",
       "      <td>10.0</td>\n",
       "      <td>27.0</td>\n",
       "    </tr>\n",
       "    <tr>\n",
       "      <th>3</th>\n",
       "      <td>4</td>\n",
       "      <td>240004</td>\n",
       "      <td>Student4</td>\n",
       "      <td>9.0</td>\n",
       "      <td>9.0</td>\n",
       "      <td>6.0</td>\n",
       "      <td>16.0</td>\n",
       "      <td>30.0</td>\n",
       "    </tr>\n",
       "    <tr>\n",
       "      <th>4</th>\n",
       "      <td>5</td>\n",
       "      <td>240005</td>\n",
       "      <td>Student5</td>\n",
       "      <td>9.0</td>\n",
       "      <td>8.0</td>\n",
       "      <td>5.0</td>\n",
       "      <td>20.0</td>\n",
       "      <td>25.0</td>\n",
       "    </tr>\n",
       "  </tbody>\n",
       "</table>\n",
       "</div>"
      ]
     },
     "execution_count": 11,
     "metadata": {},
     "output_type": "execute_result"
    }
   ],
   "execution_count": 11
  },
  {
   "metadata": {
    "ExecuteTime": {
     "end_time": "2025-01-15T17:59:39.815479Z",
     "start_time": "2025-01-15T17:59:39.811062Z"
    }
   },
   "cell_type": "code",
   "source": "## Information about the DataFrame",
   "id": "fa84baf03385da61",
   "outputs": [],
   "execution_count": 12
  },
  {
   "metadata": {
    "ExecuteTime": {
     "end_time": "2025-01-15T17:59:45.465031Z",
     "start_time": "2025-01-15T17:59:45.439523Z"
    }
   },
   "cell_type": "code",
   "source": "df1.info()",
   "id": "bc926314ea0e296a",
   "outputs": [
    {
     "name": "stdout",
     "output_type": "stream",
     "text": [
      "<class 'pandas.core.frame.DataFrame'>\n",
      "RangeIndex: 35 entries, 0 to 34\n",
      "Data columns (total 8 columns):\n",
      " #   Column                      Non-Null Count  Dtype  \n",
      "---  ------                      --------------  -----  \n",
      " 0   No                          35 non-null     int64  \n",
      " 1   Students'IDs                35 non-null     int64  \n",
      " 2   Names                       35 non-null     object \n",
      " 3   Assign 1/10       (Pandas)  33 non-null     float64\n",
      " 4   Assign2/10                  33 non-null     float64\n",
      " 5   In-Class Practical / 10     34 non-null     float64\n",
      " 6   MidTerm Exam /30            34 non-null     float64\n",
      " 7   Final Exam/40               33 non-null     float64\n",
      "dtypes: float64(5), int64(2), object(1)\n",
      "memory usage: 2.3+ KB\n"
     ]
    }
   ],
   "execution_count": 13
  },
  {
   "metadata": {
    "ExecuteTime": {
     "end_time": "2025-01-15T18:02:48.670881Z",
     "start_time": "2025-01-15T18:02:48.659092Z"
    }
   },
   "cell_type": "code",
   "source": "df1.columns",
   "id": "e3cb89545035ecad",
   "outputs": [
    {
     "data": {
      "text/plain": [
       "Index(['No', 'Students'IDs', 'Names', 'Assign 1/10       (Pandas)',\n",
       "       'Assign2/10', 'In-Class Practical / 10', 'MidTerm Exam /30',\n",
       "       'Final Exam/40'],\n",
       "      dtype='object')"
      ]
     },
     "execution_count": 14,
     "metadata": {},
     "output_type": "execute_result"
    }
   ],
   "execution_count": 14
  },
  {
   "metadata": {
    "ExecuteTime": {
     "end_time": "2025-01-15T18:03:17.210415Z",
     "start_time": "2025-01-15T18:03:17.207484Z"
    }
   },
   "cell_type": "code",
   "source": "## Check for missing values",
   "id": "140d47e3e72bf237",
   "outputs": [],
   "execution_count": 15
  },
  {
   "metadata": {
    "ExecuteTime": {
     "end_time": "2025-01-15T18:03:28.873656Z",
     "start_time": "2025-01-15T18:03:28.865458Z"
    }
   },
   "cell_type": "code",
   "source": "print(df1.isnull().sum())",
   "id": "6990f8b5bae1af65",
   "outputs": [
    {
     "name": "stdout",
     "output_type": "stream",
     "text": [
      "No                            0\n",
      "Students'IDs                  0\n",
      "Names                         0\n",
      "Assign 1/10       (Pandas)    2\n",
      "Assign2/10                    2\n",
      "In-Class Practical / 10       1\n",
      "MidTerm Exam /30              1\n",
      "Final Exam/40                 2\n",
      "dtype: int64\n"
     ]
    }
   ],
   "execution_count": 16
  },
  {
   "metadata": {
    "ExecuteTime": {
     "end_time": "2025-01-15T18:05:23.689048Z",
     "start_time": "2025-01-15T18:05:23.684795Z"
    }
   },
   "cell_type": "code",
   "source": "## Unique values in each column",
   "id": "76d7a8b297bbc4a9",
   "outputs": [],
   "execution_count": 17
  },
  {
   "metadata": {
    "ExecuteTime": {
     "end_time": "2025-01-15T18:06:42.157047Z",
     "start_time": "2025-01-15T18:06:42.130884Z"
    }
   },
   "cell_type": "code",
   "source": [
    "print(\"Unique vlaues in each column: \\n\")\n",
    "\n",
    "df1.unique()"
   ],
   "id": "22812383d69e304c",
   "outputs": [
    {
     "name": "stdout",
     "output_type": "stream",
     "text": [
      "Unique vlaues in each column: \n",
      "\n"
     ]
    },
    {
     "ename": "AttributeError",
     "evalue": "'DataFrame' object has no attribute 'unique'",
     "output_type": "error",
     "traceback": [
      "\u001B[0;31m---------------------------------------------------------------------------\u001B[0m",
      "\u001B[0;31mAttributeError\u001B[0m                            Traceback (most recent call last)",
      "\u001B[0;32m/var/folders/v1/d4hqb8dd7j5_txvl8b90krjw0000gn/T/ipykernel_1047/2611401967.py\u001B[0m in \u001B[0;36m?\u001B[0;34m()\u001B[0m\n\u001B[0;32m----> 3\u001B[0;31m \u001B[0mprint\u001B[0m\u001B[0;34m(\u001B[0m\u001B[0;34m\"Unique vlaues in each column: \\n\"\u001B[0m\u001B[0;34m)\u001B[0m\u001B[0;34m\u001B[0m\u001B[0;34m\u001B[0m\u001B[0m\n\u001B[0m\u001B[1;32m      4\u001B[0m \u001B[0;34m\u001B[0m\u001B[0m\n\u001B[1;32m      5\u001B[0m \u001B[0mdf1\u001B[0m\u001B[0;34m.\u001B[0m\u001B[0munique\u001B[0m\u001B[0;34m(\u001B[0m\u001B[0;34m)\u001B[0m\u001B[0;34m\u001B[0m\u001B[0;34m\u001B[0m\u001B[0m\n",
      "\u001B[0;32m~/PycharmProjects/PythonWithKumar/.venv/lib/python3.9/site-packages/pandas/core/generic.py\u001B[0m in \u001B[0;36m?\u001B[0;34m(self, name)\u001B[0m\n\u001B[1;32m   6295\u001B[0m             \u001B[0;32mand\u001B[0m \u001B[0mname\u001B[0m \u001B[0;32mnot\u001B[0m \u001B[0;32min\u001B[0m \u001B[0mself\u001B[0m\u001B[0;34m.\u001B[0m\u001B[0m_accessors\u001B[0m\u001B[0;34m\u001B[0m\u001B[0;34m\u001B[0m\u001B[0m\n\u001B[1;32m   6296\u001B[0m             \u001B[0;32mand\u001B[0m \u001B[0mself\u001B[0m\u001B[0;34m.\u001B[0m\u001B[0m_info_axis\u001B[0m\u001B[0;34m.\u001B[0m\u001B[0m_can_hold_identifiers_and_holds_name\u001B[0m\u001B[0;34m(\u001B[0m\u001B[0mname\u001B[0m\u001B[0;34m)\u001B[0m\u001B[0;34m\u001B[0m\u001B[0;34m\u001B[0m\u001B[0m\n\u001B[1;32m   6297\u001B[0m         ):\n\u001B[1;32m   6298\u001B[0m             \u001B[0;32mreturn\u001B[0m \u001B[0mself\u001B[0m\u001B[0;34m[\u001B[0m\u001B[0mname\u001B[0m\u001B[0;34m]\u001B[0m\u001B[0;34m\u001B[0m\u001B[0;34m\u001B[0m\u001B[0m\n\u001B[0;32m-> 6299\u001B[0;31m         \u001B[0;32mreturn\u001B[0m \u001B[0mobject\u001B[0m\u001B[0;34m.\u001B[0m\u001B[0m__getattribute__\u001B[0m\u001B[0;34m(\u001B[0m\u001B[0mself\u001B[0m\u001B[0;34m,\u001B[0m \u001B[0mname\u001B[0m\u001B[0;34m)\u001B[0m\u001B[0;34m\u001B[0m\u001B[0;34m\u001B[0m\u001B[0m\n\u001B[0m",
      "\u001B[0;31mAttributeError\u001B[0m: 'DataFrame' object has no attribute 'unique'"
     ]
    }
   ],
   "execution_count": 19
  },
  {
   "metadata": {
    "ExecuteTime": {
     "end_time": "2025-01-15T18:06:53.695843Z",
     "start_time": "2025-01-15T18:06:53.682768Z"
    }
   },
   "cell_type": "code",
   "source": "df1['Names'].unique()",
   "id": "b2644e095c596633",
   "outputs": [
    {
     "data": {
      "text/plain": [
       "array(['Student1', 'Student2', 'Student3', 'Student4', 'Student5',\n",
       "       'Student6', 'Student7', 'Student8', 'Student9', 'Student10',\n",
       "       'Student11', 'Student12', 'Student13', 'Student14', 'Student15',\n",
       "       'Student16', 'Student17', 'Student18', 'Student19', 'Student20',\n",
       "       'Student21', 'Student22', 'Student23', 'Student24', 'Student25',\n",
       "       'Student26', 'Student27', 'Student28', 'Student29', 'Student30',\n",
       "       'Student31', 'Student32', 'Student33', 'Student34', 'Student35'],\n",
       "      dtype=object)"
      ]
     },
     "execution_count": 20,
     "metadata": {},
     "output_type": "execute_result"
    }
   ],
   "execution_count": 20
  },
  {
   "metadata": {
    "ExecuteTime": {
     "end_time": "2025-01-15T18:07:20.616985Z",
     "start_time": "2025-01-15T18:07:20.612617Z"
    }
   },
   "cell_type": "code",
   "source": "print(df1['Names'].count())",
   "id": "6016295f22a31473",
   "outputs": [
    {
     "name": "stdout",
     "output_type": "stream",
     "text": [
      "35\n"
     ]
    }
   ],
   "execution_count": 22
  },
  {
   "metadata": {
    "ExecuteTime": {
     "end_time": "2025-01-15T18:09:39.324793Z",
     "start_time": "2025-01-15T18:09:39.311827Z"
    }
   },
   "cell_type": "code",
   "source": [
    "print(\"Unique values in each column: \\n\")\n",
    "\n",
    "for column in df1.columns:\n",
    "    print(f\"{column}: {df1[column].unique()}\")"
   ],
   "id": "e3717bcb04d5e950",
   "outputs": [
    {
     "name": "stdout",
     "output_type": "stream",
     "text": [
      "Unique values in each column: \n",
      "\n",
      "No: [ 1  2  3  4  5  6  7  8  9 10 11 12 13 14 15 16 17 18 19 20 21 22 23 24\n",
      " 25 26 27 28 29 30 31 32 33 34 35]\n",
      "Students'IDs: [240001 240002 240003 240004 240005 240006 240007 240008 240009 240010\n",
      " 240011 240012 240013 240014 240015 240016 240017 240018 240019 240020\n",
      " 240021 240022 240023 240024 240025 240026 240027 240028 240029 240030\n",
      " 240031 240032 240033 240034 240035]\n",
      "Names: ['Student1' 'Student2' 'Student3' 'Student4' 'Student5' 'Student6'\n",
      " 'Student7' 'Student8' 'Student9' 'Student10' 'Student11' 'Student12'\n",
      " 'Student13' 'Student14' 'Student15' 'Student16' 'Student17' 'Student18'\n",
      " 'Student19' 'Student20' 'Student21' 'Student22' 'Student23' 'Student24'\n",
      " 'Student25' 'Student26' 'Student27' 'Student28' 'Student29' 'Student30'\n",
      " 'Student31' 'Student32' 'Student33' 'Student34' 'Student35']\n",
      "Assign 1/10       (Pandas): [ 9. nan  7.  8.]\n",
      "Assign2/10: [ 9.  8. nan  7.]\n",
      "In-Class Practical / 10: [ 6.  5. 10. nan]\n",
      "MidTerm Exam /30: [19. 15. 10. 16. 20. 18. 22. 21. 17. 14. nan  5.]\n",
      "Final Exam/40: [32. 22. 27. 30. 25. 29. 31. 26. 33. 36. 28. 34. 24. nan]\n"
     ]
    }
   ],
   "execution_count": 28
  },
  {
   "metadata": {
    "ExecuteTime": {
     "end_time": "2025-01-15T18:13:32.360487Z",
     "start_time": "2025-01-15T18:13:32.354207Z"
    }
   },
   "cell_type": "code",
   "source": "## Descriptive Stats.",
   "id": "9577ea9df495342c",
   "outputs": [],
   "execution_count": 29
  },
  {
   "metadata": {
    "ExecuteTime": {
     "end_time": "2025-01-15T18:13:35.930398Z",
     "start_time": "2025-01-15T18:13:35.904149Z"
    }
   },
   "cell_type": "code",
   "source": "df1.describe()",
   "id": "831dfeb4230eb58c",
   "outputs": [
    {
     "data": {
      "text/plain": [
       "              No   Students'IDs  Assign 1/10       (Pandas)  Assign2/10  \\\n",
       "count  35.000000      35.000000                   33.000000        33.0   \n",
       "mean   18.000000  240018.000000                    8.454545         8.0   \n",
       "std    10.246951      10.246951                    0.711113         0.5   \n",
       "min     1.000000  240001.000000                    7.000000         7.0   \n",
       "25%     9.500000  240009.500000                    8.000000         8.0   \n",
       "50%    18.000000  240018.000000                    9.000000         8.0   \n",
       "75%    26.500000  240026.500000                    9.000000         8.0   \n",
       "max    35.000000  240035.000000                    9.000000         9.0   \n",
       "\n",
       "       In-Class Practical / 10  MidTerm Exam /30  Final Exam/40  \n",
       "count                34.000000         34.000000      33.000000  \n",
       "mean                  5.558824         17.735294      29.424242  \n",
       "std                   1.210839          3.314878       3.363688  \n",
       "min                   5.000000          5.000000      22.000000  \n",
       "25%                   5.000000         16.250000      27.000000  \n",
       "50%                   5.000000         19.000000      30.000000  \n",
       "75%                   6.000000         19.000000      32.000000  \n",
       "max                  10.000000         22.000000      36.000000  "
      ],
      "text/html": [
       "<div>\n",
       "<style scoped>\n",
       "    .dataframe tbody tr th:only-of-type {\n",
       "        vertical-align: middle;\n",
       "    }\n",
       "\n",
       "    .dataframe tbody tr th {\n",
       "        vertical-align: top;\n",
       "    }\n",
       "\n",
       "    .dataframe thead th {\n",
       "        text-align: right;\n",
       "    }\n",
       "</style>\n",
       "<table border=\"1\" class=\"dataframe\">\n",
       "  <thead>\n",
       "    <tr style=\"text-align: right;\">\n",
       "      <th></th>\n",
       "      <th>No</th>\n",
       "      <th>Students'IDs</th>\n",
       "      <th>Assign 1/10       (Pandas)</th>\n",
       "      <th>Assign2/10</th>\n",
       "      <th>In-Class Practical / 10</th>\n",
       "      <th>MidTerm Exam /30</th>\n",
       "      <th>Final Exam/40</th>\n",
       "    </tr>\n",
       "  </thead>\n",
       "  <tbody>\n",
       "    <tr>\n",
       "      <th>count</th>\n",
       "      <td>35.000000</td>\n",
       "      <td>35.000000</td>\n",
       "      <td>33.000000</td>\n",
       "      <td>33.0</td>\n",
       "      <td>34.000000</td>\n",
       "      <td>34.000000</td>\n",
       "      <td>33.000000</td>\n",
       "    </tr>\n",
       "    <tr>\n",
       "      <th>mean</th>\n",
       "      <td>18.000000</td>\n",
       "      <td>240018.000000</td>\n",
       "      <td>8.454545</td>\n",
       "      <td>8.0</td>\n",
       "      <td>5.558824</td>\n",
       "      <td>17.735294</td>\n",
       "      <td>29.424242</td>\n",
       "    </tr>\n",
       "    <tr>\n",
       "      <th>std</th>\n",
       "      <td>10.246951</td>\n",
       "      <td>10.246951</td>\n",
       "      <td>0.711113</td>\n",
       "      <td>0.5</td>\n",
       "      <td>1.210839</td>\n",
       "      <td>3.314878</td>\n",
       "      <td>3.363688</td>\n",
       "    </tr>\n",
       "    <tr>\n",
       "      <th>min</th>\n",
       "      <td>1.000000</td>\n",
       "      <td>240001.000000</td>\n",
       "      <td>7.000000</td>\n",
       "      <td>7.0</td>\n",
       "      <td>5.000000</td>\n",
       "      <td>5.000000</td>\n",
       "      <td>22.000000</td>\n",
       "    </tr>\n",
       "    <tr>\n",
       "      <th>25%</th>\n",
       "      <td>9.500000</td>\n",
       "      <td>240009.500000</td>\n",
       "      <td>8.000000</td>\n",
       "      <td>8.0</td>\n",
       "      <td>5.000000</td>\n",
       "      <td>16.250000</td>\n",
       "      <td>27.000000</td>\n",
       "    </tr>\n",
       "    <tr>\n",
       "      <th>50%</th>\n",
       "      <td>18.000000</td>\n",
       "      <td>240018.000000</td>\n",
       "      <td>9.000000</td>\n",
       "      <td>8.0</td>\n",
       "      <td>5.000000</td>\n",
       "      <td>19.000000</td>\n",
       "      <td>30.000000</td>\n",
       "    </tr>\n",
       "    <tr>\n",
       "      <th>75%</th>\n",
       "      <td>26.500000</td>\n",
       "      <td>240026.500000</td>\n",
       "      <td>9.000000</td>\n",
       "      <td>8.0</td>\n",
       "      <td>6.000000</td>\n",
       "      <td>19.000000</td>\n",
       "      <td>32.000000</td>\n",
       "    </tr>\n",
       "    <tr>\n",
       "      <th>max</th>\n",
       "      <td>35.000000</td>\n",
       "      <td>240035.000000</td>\n",
       "      <td>9.000000</td>\n",
       "      <td>9.0</td>\n",
       "      <td>10.000000</td>\n",
       "      <td>22.000000</td>\n",
       "      <td>36.000000</td>\n",
       "    </tr>\n",
       "  </tbody>\n",
       "</table>\n",
       "</div>"
      ]
     },
     "execution_count": 30,
     "metadata": {},
     "output_type": "execute_result"
    }
   ],
   "execution_count": 30
  },
  {
   "metadata": {
    "ExecuteTime": {
     "end_time": "2025-01-15T18:15:47.793235Z",
     "start_time": "2025-01-15T18:15:47.776719Z"
    }
   },
   "cell_type": "code",
   "source": "# Perform Data Cleaning",
   "id": "8314ea356e1b68ab",
   "outputs": [],
   "execution_count": 31
  },
  {
   "metadata": {
    "ExecuteTime": {
     "end_time": "2025-01-15T18:23:14.162842Z",
     "start_time": "2025-01-15T18:23:13.991273Z"
    }
   },
   "cell_type": "code",
   "source": [
    "## Visualizing null values\n",
    "plt.figure(figsize=(10, 6))\n",
    "sns.heatmap(df1.isnull(), cmap='viridis')\n",
    "plt.title('Missing Values Heatmap')\n",
    "plt.xlabel('Columns')\n",
    "plt.ylabel('Rows')\n",
    "plt.show()"
   ],
   "id": "d7eddd9171837cdb",
   "outputs": [
    {
     "data": {
      "text/plain": [
       "<Figure size 1000x600 with 2 Axes>"
      ],
      "image/png": "[encoded data removed]"
     },
     "metadata": {},
     "output_type": "display_data"
    }
   ],
   "execution_count": 37
  },
  {
   "metadata": {
    "ExecuteTime": {
     "end_time": "2025-01-15T18:28:14.833848Z",
     "start_time": "2025-01-15T18:28:14.759377Z"
    }
   },
   "cell_type": "code",
   "source": [
    "## Another way to visualize\n",
    "plt.figure(figsize=(10, 6))\n",
    "plt.imshow(df1.isnull(), cmap='viridis')\n",
    "plt.title('Missing Values Heatmap')\n",
    "plt.xlabel('Columns')\n",
    "plt.ylabel('Rows')\n",
    "plt.xticks(range(len(df1.columns)), df1.columns)\n",
    "plt.yticks(range(len(df.columns)), df1.columns)\n",
    "plt.colorbar(label='Missing Values')\n",
    "plt.show()"
   ],
   "id": "3a948b305ae0fbf3",
   "outputs": [
    {
     "data": {
      "text/plain": [
       "<Figure size 1000x600 with 2 Axes>"
      ],
      "image/png": "[encoded data removed]"
     },
     "metadata": {},
     "output_type": "display_data"
    }
   ],
   "execution_count": 42
  },
  {
   "metadata": {},
   "cell_type": "code",
   "outputs": [],
   "execution_count": null,
   "source": "",
   "id": "a9dedd6fe69a22a7"
  }
 ],
 "metadata": {
  "kernelspec": {
   "display_name": "Python 3",
   "language": "python",
   "name": "python3"
  },
  "language_info": {
   "codemirror_mode": {
    "name": "ipython",
    "version": 2
   },
   "file_extension": ".py",
   "mimetype": "text/x-python",
   "name": "python",
   "nbconvert_exporter": "python",
   "pygments_lexer": "ipython2",
   "version": "2.7.6"
  }
 },
 "nbformat": 4,
 "nbformat_minor": 5
}
