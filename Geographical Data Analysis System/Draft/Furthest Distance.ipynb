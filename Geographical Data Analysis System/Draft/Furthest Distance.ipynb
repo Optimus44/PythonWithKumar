{
 "cells": [
  {
   "cell_type": "code",
   "execution_count": 2,
   "id": "33b552ef-f842-4348-8108-d62a198707cb",
   "metadata": {},
   "outputs": [],
   "source": [
    "locations = [\n",
    "    {\"id\": \"L001\", \"name\": \"Kigali\", \"region\": \"Central\", \"coordinates\": (-1.9706, 30.1044)},\n",
    "    {\"id\": \"L002\", \"name\": \"Butare\", \"region\": \"Southern\", \"coordinates\": (-2.6013, 29.7494)},\n",
    "    {\"id\": \"L003\", \"name\": \"Musanze\", \"region\": \"Northern\", \"coordinates\": (-1.5021, 29.6831)},\n",
    "    {\"id\": \"L004\", \"name\": \"Rubavu\", \"region\": \"Western\", \"coordinates\": (-1.6872, 29.3737)},\n",
    "    {\"id\": \"L005\", \"name\": \"Nyamata\", \"region\": \"Eastern\", \"coordinates\": (-2.0145, 30.2653)},\n",
    "    {\"id\": \"L006\", \"name\": \"Huye\", \"region\": \"Southern\", \"coordinates\": (-2.9205, 29.7464)},\n",
    "    {\"id\": \"L007\", \"name\": \"Gisenyi\", \"region\": \"Western\", \"coordinates\": (-1.6969, 29.2401)},\n",
    "    {\"id\": \"L008\", \"name\": \"Kayonza\", \"region\": \"Eastern\", \"coordinates\": (-1.6597, 30.4953)},\n",
    "    {\"id\": \"L009\", \"name\": \"Ruhengeri\", \"region\": \"Northern\", \"coordinates\": (-1.4975, 29.6783)},\n",
    "    {\"id\": \"L010\", \"name\": \"Gicumbi\", \"region\": \"Northern\", \"coordinates\": (-1.6549, 29.8119)}\n",
    "]"
   ]
  },
  {
   "cell_type": "code",
   "execution_count": 1,
   "id": "65564a0b-85e0-48db-8568-f1e16c5c026b",
   "metadata": {},
   "outputs": [
    {
     "name": "stdout",
     "output_type": "stream",
     "text": [
      "AB\n",
      "AC\n",
      "BC\n"
     ]
    }
   ],
   "source": [
    "loc = ['A', 'B', 'C']\n",
    "i = 0\n",
    "for point_a in loc:\n",
    "    i += 1\n",
    "    for point_b in loc[i:]:\n",
    "        print(point_a + point_b)"
   ]
  },
  {
   "cell_type": "code",
   "execution_count": 5,
   "id": "e7a52b35-f6c1-4d12-afe1-4b2a246a2a31",
   "metadata": {},
   "outputs": [
    {
     "name": "stdout",
     "output_type": "stream",
     "text": [
      "Musanze and Ruhengeri\n",
      "Musanze and Gicumbi\n",
      "Ruhengeri and Gicumbi\n"
     ]
    }
   ],
   "source": [
    "# Let's replace the letters with our locations\n",
    "loc = ['Musanze', 'Ruhengeri', 'Gicumbi']\n",
    "iterations = 0\n",
    "i = 0\n",
    "for point_a in loc:\n",
    "    i += 1\n",
    "    for point_b in loc[i:]:\n",
    "        print(f\"{point_a} and {point_b}\")"
   ]
  },
  {
   "cell_type": "code",
   "execution_count": 2,
   "id": "457792b0-1deb-4ebe-8e4c-b32299976322",
   "metadata": {},
   "outputs": [
    {
     "name": "stdout",
     "output_type": "stream",
     "text": [
      "12\n",
      "13\n",
      "23\n"
     ]
    }
   ],
   "source": [
    "loc = ['1', '2', '3']\n",
    "i = 0\n",
    "for point_a in loc:\n",
    "    i += 1\n",
    "    for point_b in loc[i:]:\n",
    "        print(point_a + point_b)"
   ]
  },
  {
   "cell_type": "code",
   "execution_count": 6,
   "id": "2933653d-010f-45c3-a51c-85f0112a1cbc",
   "metadata": {},
   "outputs": [
    {
     "name": "stdout",
     "output_type": "stream",
     "text": [
      "3\n",
      "1  +  2\n",
      "4\n",
      "1  +  3\n",
      "5\n",
      "2  +  3\n"
     ]
    }
   ],
   "source": [
    "loc = [1, 2, 3]\n",
    "i = 0\n",
    "for point_a in loc:\n",
    "    i += 1\n",
    "    for point_b in loc[i:]:\n",
    "        print(point_a + point_b)\n",
    "        print(point_a, \" + \", point_b)"
   ]
  },
  {
   "cell_type": "code",
   "execution_count": 8,
   "id": "918e285a-4e22-40af-a13f-78fe8db3e6d6",
   "metadata": {},
   "outputs": [
    {
     "name": "stdout",
     "output_type": "stream",
     "text": [
      "4 + 1 = 5\n",
      "\n",
      "if 5 > 0\n",
      "   0 = 5\n",
      "\n",
      "4 + 2 = 6\n",
      "\n",
      "if 6 > 5\n",
      "   5 = 6\n",
      "\n",
      "4 + 3 = 7\n",
      "\n",
      "if 7 > 6\n",
      "   6 = 7\n",
      "\n",
      "4 + 7 = 11\n",
      "\n",
      "if 11 > 7\n",
      "   7 = 11\n",
      "\n",
      "1 + 2 = 3\n",
      "1 + 3 = 4\n",
      "1 + 7 = 8\n",
      "2 + 3 = 5\n",
      "2 + 7 = 9\n",
      "3 + 7 = 10\n",
      "\n",
      "Highest:  11\n"
     ]
    }
   ],
   "source": [
    "loc = [4, 1, 2, 3, 7]\n",
    "i = 0\n",
    "furthest = 0\n",
    "for point_a in loc:\n",
    "    i += 1\n",
    "    for point_b in loc[i:]:\n",
    "        total = point_a + point_b\n",
    "        print(f\"{point_a} + {point_b} = {total}\")\n",
    "        if total > furthest:\n",
    "            print(f\"\\nif {total} > {furthest}\")\n",
    "            print(f\"   {furthest} = {total}\\n\")\n",
    "            furthest = total\n",
    "\n",
    "print(\"\\nHighest: \", furthest)"
   ]
  },
  {
   "cell_type": "markdown",
   "id": "4a63f58f-199e-43b0-aa70-ea2051e92091",
   "metadata": {},
   "source": [
    "# View"
   ]
  },
  {
   "cell_type": "code",
   "execution_count": 3,
   "id": "edca56e0-a860-4b8b-bc59-bdcc4007df4f",
   "metadata": {},
   "outputs": [],
   "source": [
    "def view_location(a_list):\n",
    "    for location in a_list:\n",
    "        print(f\"ID: {location['id']}, \"\n",
    "              f\"Name: {location['name']}, \"\n",
    "              f\"Region: {location['region']}, \"\n",
    "              f\"Coordinates: {location['coordinates']}\")"
   ]
  },
  {
   "cell_type": "markdown",
   "id": "5377e0ee-5aaa-484b-81a4-f441d63db6a5",
   "metadata": {},
   "source": [
    "# Filter"
   ]
  },
  {
   "cell_type": "code",
   "execution_count": 4,
   "id": "dfa077c9-f48d-468a-8e9c-2194b6debc23",
   "metadata": {},
   "outputs": [],
   "source": [
    "def filter_by_region(locations, region):\n",
    "    filtered_locations = []\n",
    "    for location in locations:\n",
    "        if location['region'] == region:\n",
    "            filtered_locations.append(location)\n",
    "    return filtered_locations"
   ]
  },
  {
   "cell_type": "markdown",
   "id": "a3dbdb2d-f04b-43d7-9d76-3236e40ac92f",
   "metadata": {},
   "source": [
    "# Calculate Distance"
   ]
  },
  {
   "cell_type": "code",
   "execution_count": 5,
   "id": "aada6404-c305-414d-a97a-1a8010fa87a7",
   "metadata": {},
   "outputs": [],
   "source": [
    "def calculate_distance(point_a, point_b):\n",
    "    return (((point_a[0] - point_b[0]) ** 2 + (point_a[1] - point_b[1]) ** 2 ) ** 0.5) * 111"
   ]
  },
  {
   "cell_type": "code",
   "execution_count": 20,
   "id": "832cf076-a16b-4691-b653-6cda4d600cea",
   "metadata": {},
   "outputs": [
    {
     "name": "stdout",
     "output_type": "stream",
     "text": [
      "ID: L003, Name: Musanze, Region: Northern, Coordinates: (-1.5021, 29.6831)\n",
      "ID: L009, Name: Ruhengeri, Region: Northern, Coordinates: (-1.4975, 29.6783)\n",
      "ID: L010, Name: Gicumbi, Region: Northern, Coordinates: (-1.6549, 29.8119)\n"
     ]
    }
   ],
   "source": [
    "# Prepare list - Filter by region\n",
    "\n",
    "rgn = \"Northern\"\n",
    "northern_locations = filter_by_region(locations, rgn)\n",
    "view_location(northern_locations)"
   ]
  },
  {
   "cell_type": "code",
   "execution_count": 25,
   "id": "2459b326-0538-47bc-a409-04b3fa4cbbf5",
   "metadata": {},
   "outputs": [
    {
     "name": "stdout",
     "output_type": "stream",
     "text": [
      "0.7379621941535558\n",
      "22.182588371964304\n",
      "22.916519240931947\n",
      "Farthest:  22.916519240931947\n",
      "Farthest: 22.916519240931947 between Ruhengeri and Gicumbi\n",
      "Farthest: 22.916519240931947 between Gicumbi and Gicumbi\n"
     ]
    }
   ],
   "source": [
    "i = 0\n",
    "farthest = 0\n",
    "for point_a in northern_locations:\n",
    "    i += 1\n",
    "    for point_b in northern_locations[i:]:\n",
    "        distance = calculate_distance(point_a['coordinates'], point_b['coordinates'])\n",
    "        print(distance)\n",
    "        if distance > farthest:\n",
    "            farthest = distance\n",
    "            location_1 = point_a # Grabs point_a at runtime\n",
    "            location_2 = point_b # Grabs point_b at runtime.\n",
    "print(\"Farthest: \", farthest)\n",
    "print(f\"Farthest: {farthest} between {location_1['name']} and {location_2['name']}\")\n",
    "print(f\"Farthest: {farthest} between {point_a['name']} and {point_b['name']}\") # This one doesn't work because the outer loop "
   ]
  },
  {
   "cell_type": "markdown",
   "id": "4abdc362-01cd-4aa4-883c-3e1bcdea39c0",
   "metadata": {},
   "source": [
    "# This one Works"
   ]
  },
  {
   "cell_type": "code",
   "execution_count": 40,
   "id": "e6c84054-c152-4535-9880-91c9f1b6057a",
   "metadata": {},
   "outputs": [],
   "source": [
    "def furthest_distance(list_of_locations):\n",
    "    # This should receive a filtered location_list\n",
    "    i = 0\n",
    "    farthest_distance = 0\n",
    "    for point_a in list_of_locations:\n",
    "        i += 1\n",
    "        for point_b in list_of_locations[i:]:\n",
    "            distance = calculate_distance(point_a['coordinates'], point_b['coordinates'])\n",
    "            if distance > farthest_distance:\n",
    "                farthest_distance = distance\n",
    "                location_1 = point_a\n",
    "                location_2 = point_b\n",
    "\n",
    "    return farthest_distance, location_1, location_2"
   ]
  },
  {
   "cell_type": "code",
   "execution_count": null,
   "id": "49876442-a635-4e56-a5a3-32233c5376fe",
   "metadata": {},
   "outputs": [],
   "source": []
  },
  {
   "cell_type": "code",
   "execution_count": 41,
   "id": "dcc841fa-131a-460c-8ec4-f3ab4b856f48",
   "metadata": {},
   "outputs": [
    {
     "name": "stdin",
     "output_type": "stream",
     "text": [
      "Region:  Western\n"
     ]
    },
    {
     "name": "stdout",
     "output_type": "stream",
     "text": [
      "Farthest: 14.868635413177381 between Rubavu and Gisenyi\n"
     ]
    }
   ],
   "source": [
    "region = input(\"Region: \")\n",
    "filtered_list = filter_by_region(locations, region)\n",
    "if filtered_list:\n",
    "    farthest, location1, location2 = furthest_distance(filtered_list) # Tuple unpacking.\n",
    "    print(f\"Farthest: {farthest} between {location1['name']} and {location2['name']}\")\n",
    "    \n",
    "else: \n",
    "    print(\"Warning: Location not Found\")"
   ]
  },
  {
   "cell_type": "code",
   "execution_count": 24,
   "id": "94b46b5c-48eb-48e6-9e55-011f8d57c2b5",
   "metadata": {},
   "outputs": [
    {
     "name": "stdin",
     "output_type": "stream",
     "text": [
      "Region:  Northern\n"
     ]
    },
    {
     "name": "stdout",
     "output_type": "stream",
     "text": [
      "ID: L003, Name: Musanze, Region: Northern, Coordinates: (-1.5021, 29.6831)\n",
      "ID: L009, Name: Ruhengeri, Region: Northern, Coordinates: (-1.4975, 29.6783)\n",
      "ID: L010, Name: Gicumbi, Region: Northern, Coordinates: (-1.6549, 29.8119)\n"
     ]
    }
   ],
   "source": [
    "region = input(\"Region: \")\n",
    "the_list = filter_by_region(locations, region)\n",
    "view_location(the_list)\n",
    "\n",
    "# print(view_location(the_list))"
   ]
  },
  {
   "cell_type": "code",
   "execution_count": 36,
   "id": "b80b1017-5688-4a17-9d7c-7184827d1cee",
   "metadata": {},
   "outputs": [
    {
     "name": "stdout",
     "output_type": "stream",
     "text": [
      "Furthest Distance: 0\n",
      "0.7379621941535558 between (-1.5021, 29.6831) and (-1.4975, 29.6783)\n",
      "0.7379621941535558 between (-1.5021, 29.6831) and (-1.4975, 29.6783)\n",
      "\n",
      "\n",
      "Furthest Distance: 0.7379621941535558\n",
      "22.182588371964304 between (-1.5021, 29.6831) and (-1.6549, 29.8119)\n",
      "22.182588371964304 between (-1.5021, 29.6831) and (-1.6549, 29.8119)\n",
      "\n",
      "\n",
      "Furthest Distance: 22.182588371964304\n",
      "22.916519240931947 between (-1.4975, 29.6783) and (-1.6549, 29.8119)\n",
      "22.916519240931947 between (-1.4975, 29.6783) and (-1.6549, 29.8119)\n",
      "\n",
      "\n"
     ]
    }
   ],
   "source": [
    "i = 0\n",
    "farthest_distance = 0\n",
    "for point_a in the_list:\n",
    "    i += 1\n",
    "    for point_b in the_list[i:]:\n",
    "        distance = calculate_distance(point_a['coordinates'], point_b['coordinates'])\n",
    "        print(f\"Furthest Distance: {farthest_distance}\")\n",
    "        if distance > farthest_distance:\n",
    "            farthest_distance = distance\n",
    "            print(f\"{distance} between {point_a['coordinates']} and {point_b['coordinates']}\")\n",
    "            print(f\"{farthest_distance} between {point_a['coordinates']} and {point_b['coordinates']}\\n\\n\")\n",
    "\n",
    "\n",
    "# Well, this one clearly works."
   ]
  },
  {
   "cell_type": "code",
   "execution_count": 37,
   "id": "92a4b5c0-905b-4cea-9015-b236f66cf9f1",
   "metadata": {},
   "outputs": [
    {
     "name": "stdout",
     "output_type": "stream",
     "text": [
      "Farthest Distance:  22.916519240931947\n",
      "Location 1:  {'id': 'L009', 'name': 'Ruhengeri', 'region': 'Northern', 'coordinates': (-1.4975, 29.6783)}\n",
      "Location 2:  {'id': 'L010', 'name': 'Gicumbi', 'region': 'Northern', 'coordinates': (-1.6549, 29.8119)}\n"
     ]
    }
   ],
   "source": [
    "# Now, we have a filtered list\n",
    "\n",
    "i = 0\n",
    "farthest_distance = 0\n",
    "for point_a in the_list:\n",
    "    i += 1\n",
    "    for point_b in the_list[i:]:\n",
    "        distance = calculate_distance(point_a['coordinates'], point_b['coordinates'])\n",
    "        if distance > farthest_distance:\n",
    "            furthest_distance = distance\n",
    "            location_1 = point_a\n",
    "            location_2 = point_b\n",
    "\n",
    "print(\"Farthest Distance: \", furthest_distance)\n",
    "print(\"Location 1: \", location_1)\n",
    "print(\"Location 2: \", location_2)"
   ]
  },
  {
   "cell_type": "code",
   "execution_count": 22,
   "id": "46cade18-0555-4a50-b93d-b8d2cbb1d7ed",
   "metadata": {},
   "outputs": [
    {
     "ename": "SyntaxError",
     "evalue": "invalid syntax. Perhaps you forgot a comma? (1495242092.py, line 1)",
     "output_type": "error",
     "traceback": [
      "\u001b[1;36m  Cell \u001b[1;32mIn[22], line 1\u001b[1;36m\u001b[0m\n\u001b[1;33m    print(print(Hello World))\u001b[0m\n\u001b[1;37m                ^\u001b[0m\n\u001b[1;31mSyntaxError\u001b[0m\u001b[1;31m:\u001b[0m invalid syntax. Perhaps you forgot a comma?\n"
     ]
    }
   ],
   "source": [
    "print(print(Hello World))"
   ]
  },
  {
   "cell_type": "code",
   "execution_count": null,
   "id": "0a6e2fb6-d2dc-466c-b3b2-db07bf1952fa",
   "metadata": {},
   "outputs": [],
   "source": []
  }
 ],
 "metadata": {
  "kernelspec": {
   "display_name": "Python 3 (ipykernel)",
   "language": "python",
   "name": "python3"
  },
  "language_info": {
   "codemirror_mode": {
    "name": "ipython",
    "version": 3
   },
   "file_extension": ".py",
   "mimetype": "text/x-python",
   "name": "python",
   "nbconvert_exporter": "python",
   "pygments_lexer": "ipython3",
   "version": "3.13.0"
  }
 },
 "nbformat": 4,
 "nbformat_minor": 5
}
