{
 "cells": [
  {
   "cell_type": "code",
   "id": "initial_id",
   "metadata": {
    "collapsed": true,
    "jupyter": {
     "outputs_hidden": true
    },
    "ExecuteTime": {
     "end_time": "2024-12-24T17:09:28.414887Z",
     "start_time": "2024-12-24T17:09:28.406897Z"
    }
   },
   "source": [
    "locations = [\n",
    "{\"id\": \"L001\", \"name\": \"Kigali\", \"region\": \"Central\", \"coordinates\": (-1.9706, 30.1044)},\n",
    "{\"id\": \"L002\", \"name\": \"Butare\", \"region\": \"Southern\", \"coordinates\": (-2.6013, 29.7494)},\n",
    "{\"id\": \"L003\", \"name\": \"Musanze\", \"region\": \"Northern\", \"coordinates\": (-1.5021, 29.6831)},\n",
    "{\"id\": \"L004\", \"name\": \"Rubavu\", \"region\": \"Western\", \"coordinates\": (-1.6872, 29.3737)},\n",
    "{\"id\": \"L005\", \"name\": \"Nyamata\", \"region\": \"Eastern\", \"coordinates\": (-2.0145, 30.2653)},\n",
    "{\"id\": \"L006\", \"name\": \"Huye\", \"region\": \"Southern\", \"coordinates\": (-2.9205, 29.7464)},\n",
    "{\"id\": \"L007\", \"name\": \"Gisenyi\", \"region\": \"Western\", \"coordinates\": (-1.6969, 29.2401)},\n",
    "{\"id\": \"L008\", \"name\": \"Kayonza\", \"region\": \"Eastern\", \"coordinates\": (-1.6597, 30.4953)},\n",
    "{\"id\": \"L009\", \"name\": \"Ruhengeri\", \"region\": \"Northern\", \"coordinates\": (-1.4975, 29.6783)},\n",
    "{\"id\": \"L010\", \"name\": \"Gicumbi\", \"region\": \"Northern\", \"coordinates\": (-1.6549, 29.8119)}\n",
    "]\n",
    "\n",
    "locations\n"
   ],
   "outputs": [
    {
     "data": {
      "text/plain": [
       "[{'id': 'L001',\n",
       "  'name': 'Kigali',\n",
       "  'region': 'Central',\n",
       "  'coordinates': (-1.9706, 30.1044)},\n",
       " {'id': 'L002',\n",
       "  'name': 'Butare',\n",
       "  'region': 'Southern',\n",
       "  'coordinates': (-2.6013, 29.7494)},\n",
       " {'id': 'L003',\n",
       "  'name': 'Musanze',\n",
       "  'region': 'Northern',\n",
       "  'coordinates': (-1.5021, 29.6831)},\n",
       " {'id': 'L004',\n",
       "  'name': 'Rubavu',\n",
       "  'region': 'Western',\n",
       "  'coordinates': (-1.6872, 29.3737)},\n",
       " {'id': 'L005',\n",
       "  'name': 'Nyamata',\n",
       "  'region': 'Eastern',\n",
       "  'coordinates': (-2.0145, 30.2653)},\n",
       " {'id': 'L006',\n",
       "  'name': 'Huye',\n",
       "  'region': 'Southern',\n",
       "  'coordinates': (-2.9205, 29.7464)},\n",
       " {'id': 'L007',\n",
       "  'name': 'Gisenyi',\n",
       "  'region': 'Western',\n",
       "  'coordinates': (-1.6969, 29.2401)},\n",
       " {'id': 'L008',\n",
       "  'name': 'Kayonza',\n",
       "  'region': 'Eastern',\n",
       "  'coordinates': (-1.6597, 30.4953)},\n",
       " {'id': 'L009',\n",
       "  'name': 'Ruhengeri',\n",
       "  'region': 'Northern',\n",
       "  'coordinates': (-1.4975, 29.6783)},\n",
       " {'id': 'L010',\n",
       "  'name': 'Gicumbi',\n",
       "  'region': 'Northern',\n",
       "  'coordinates': (-1.6549, 29.8119)}]"
      ]
     },
     "execution_count": 1,
     "metadata": {},
     "output_type": "execute_result"
    }
   ],
   "execution_count": 1
  },
  {
   "cell_type": "markdown",
   "id": "808e33a875d8daf1",
   "metadata": {},
   "source": [
    "ID: L001, Name: City A, Region: North, Coordinates: (28.7041, 77.1025)\n",
    "\n",
    "ID: L002, Name: City B, Region: South, Coordinates: (12.9716, 77.5946)"
   ]
  },
  {
   "cell_type": "code",
   "execution_count": 2,
   "id": "2cfad63fa8ca527a",
   "metadata": {
    "ExecuteTime": {
     "end_time": "2024-12-24T09:21:16.551620Z",
     "start_time": "2024-12-24T09:21:16.525006Z"
    }
   },
   "outputs": [
    {
     "data": {
      "text/plain": [
       "{'id': 'L001',\n",
       " 'name': 'Kigali',\n",
       " 'region': 'Central',\n",
       " 'coordinates': (-1.9706, 30.1044)}"
      ]
     },
     "execution_count": 2,
     "metadata": {},
     "output_type": "execute_result"
    }
   ],
   "source": [
    "locations[0]"
   ]
  },
  {
   "cell_type": "code",
   "execution_count": 3,
   "id": "1f765f4e50b6835d",
   "metadata": {
    "ExecuteTime": {
     "end_time": "2024-12-24T09:21:25.162291Z",
     "start_time": "2024-12-24T09:21:25.155938Z"
    }
   },
   "outputs": [
    {
     "name": "stdout",
     "output_type": "stream",
     "text": [
      "{'id': 'L001', 'name': 'Kigali', 'region': 'Central', 'coordinates': (-1.9706, 30.1044)}\n"
     ]
    }
   ],
   "source": [
    "print(locations[0])"
   ]
  },
  {
   "cell_type": "code",
   "execution_count": 6,
   "id": "bd7eec6cc1f39521",
   "metadata": {
    "ExecuteTime": {
     "end_time": "2024-12-24T09:23:43.376211Z",
     "start_time": "2024-12-24T09:23:43.371122Z"
    }
   },
   "outputs": [
    {
     "name": "stdout",
     "output_type": "stream",
     "text": [
      "L001\n"
     ]
    }
   ],
   "source": [
    "# Accessing ID of the first Location\n",
    "print(locations[0]['id'])"
   ]
  },
  {
   "cell_type": "code",
   "execution_count": 7,
   "id": "faab7e61e8e556e7",
   "metadata": {
    "ExecuteTime": {
     "end_time": "2024-12-24T09:25:25.792670Z",
     "start_time": "2024-12-24T09:25:25.786092Z"
    }
   },
   "outputs": [
    {
     "name": "stdout",
     "output_type": "stream",
     "text": [
      "ID: L001, Name: Kigali, Region: Central, Coordinates: (-1.9706, 30.1044)\n"
     ]
    }
   ],
   "source": [
    "# Printing the first location\n",
    "\n",
    "print(f\"ID: {locations[0]['id']}, Name: {locations[0]['name']}, Region: {locations[0]['region']}, Coordinates: {locations[0]['coordinates']}\")"
   ]
  },
  {
   "cell_type": "code",
   "execution_count": 8,
   "id": "ac8425f35e4bfe6b",
   "metadata": {
    "ExecuteTime": {
     "end_time": "2024-12-24T09:25:52.134541Z",
     "start_time": "2024-12-24T09:25:52.129186Z"
    }
   },
   "outputs": [
    {
     "name": "stdout",
     "output_type": "stream",
     "text": [
      "{'id': 'L001', 'name': 'Kigali', 'region': 'Central', 'coordinates': (-1.9706, 30.1044)}\n",
      "{'id': 'L002', 'name': 'Butare', 'region': 'Southern', 'coordinates': (-2.6013, 29.7494)}\n",
      "{'id': 'L003', 'name': 'Musanze', 'region': 'Northern', 'coordinates': (-1.5021, 29.6831)}\n",
      "{'id': 'L004', 'name': 'Rubavu', 'region': 'Western', 'coordinates': (-1.6872, 29.3737)}\n",
      "{'id': 'L005', 'name': 'Nyamata', 'region': 'Eastern', 'coordinates': (-2.0145, 30.2653)}\n",
      "{'id': 'L006', 'name': 'Huye', 'region': 'Southern', 'coordinates': (-2.9205, 29.7464)}\n",
      "{'id': 'L007', 'name': 'Gisenyi', 'region': 'Western', 'coordinates': (-1.6969, 29.2401)}\n",
      "{'id': 'L008', 'name': 'Kayonza', 'region': 'Eastern', 'coordinates': (-1.6597, 30.4953)}\n",
      "{'id': 'L009', 'name': 'Ruhengeri', 'region': 'Northern', 'coordinates': (-1.4975, 29.6783)}\n",
      "{'id': 'L010', 'name': 'Gicumbi', 'region': 'Northern', 'coordinates': (-1.6549, 29.8119)}\n"
     ]
    }
   ],
   "source": [
    "# Traversing the Dataframe\n",
    "\n",
    "for location in locations:\n",
    "    print(location)"
   ]
  },
  {
   "cell_type": "code",
   "execution_count": 22,
   "id": "4b6a96b04a8c62c3",
   "metadata": {
    "ExecuteTime": {
     "end_time": "2024-12-24T11:08:06.750637Z",
     "start_time": "2024-12-24T11:08:06.742046Z"
    }
   },
   "outputs": [
    {
     "name": "stdout",
     "output_type": "stream",
     "text": [
      "ID: L001, Name: Kigali, Region: Central, Coordinates: (-1.9706, 30.1044)\n",
      "ID: L002, Name: Butare, Region: Southern, Coordinates: (-2.6013, 29.7494)\n",
      "ID: L003, Name: Musanze, Region: Northern, Coordinates: (-1.5021, 29.6831)\n",
      "ID: L004, Name: Rubavu, Region: Western, Coordinates: (-1.6872, 29.3737)\n",
      "ID: L005, Name: Nyamata, Region: Eastern, Coordinates: (-2.0145, 30.2653)\n",
      "ID: L006, Name: Huye, Region: Southern, Coordinates: (-2.9205, 29.7464)\n",
      "ID: L007, Name: Gisenyi, Region: Western, Coordinates: (-1.6969, 29.2401)\n",
      "ID: L008, Name: Kayonza, Region: Eastern, Coordinates: (-1.6597, 30.4953)\n",
      "ID: L009, Name: Ruhengeri, Region: Northern, Coordinates: (-1.4975, 29.6783)\n",
      "ID: L010, Name: Gicumbi, Region: Northern, Coordinates: (-1.6549, 29.8119)\n"
     ]
    }
   ],
   "source": [
    "# Printing the data in the dataframe as suggested.\n",
    "\n",
    "for location in locations:\n",
    "    print(f\"ID: {location['id']}, \"\n",
    "          f\"Name: {location['name']}, \"\n",
    "          f\"Region: {location['region']}, \"\n",
    "          f\"Coordinates: {location['coordinates']}\")"
   ]
  },
  {
   "cell_type": "code",
   "execution_count": 23,
   "id": "b0354cc12728fad4",
   "metadata": {
    "ExecuteTime": {
     "end_time": "2024-12-24T11:09:53.591478Z",
     "start_time": "2024-12-24T11:09:53.585932Z"
    }
   },
   "outputs": [
    {
     "name": "stdout",
     "output_type": "stream",
     "text": [
      "{'id': 'L001', 'name': 'Kigali', 'region': 'Central', 'coordinates': (-1.9706, 30.1044)}\n",
      "{'id': 'L002', 'name': 'Butare', 'region': 'Southern', 'coordinates': (-2.6013, 29.7494)}\n",
      "{'id': 'L003', 'name': 'Musanze', 'region': 'Northern', 'coordinates': (-1.5021, 29.6831)}\n",
      "{'id': 'L004', 'name': 'Rubavu', 'region': 'Western', 'coordinates': (-1.6872, 29.3737)}\n",
      "{'id': 'L005', 'name': 'Nyamata', 'region': 'Eastern', 'coordinates': (-2.0145, 30.2653)}\n",
      "{'id': 'L006', 'name': 'Huye', 'region': 'Southern', 'coordinates': (-2.9205, 29.7464)}\n",
      "{'id': 'L007', 'name': 'Gisenyi', 'region': 'Western', 'coordinates': (-1.6969, 29.2401)}\n",
      "{'id': 'L008', 'name': 'Kayonza', 'region': 'Eastern', 'coordinates': (-1.6597, 30.4953)}\n",
      "{'id': 'L009', 'name': 'Ruhengeri', 'region': 'Northern', 'coordinates': (-1.4975, 29.6783)}\n",
      "{'id': 'L010', 'name': 'Gicumbi', 'region': 'Northern', 'coordinates': (-1.6549, 29.8119)}\n"
     ]
    }
   ],
   "source": [
    "for location in locations:\n",
    "    print(location)"
   ]
  },
  {
   "cell_type": "code",
   "execution_count": 27,
   "id": "a83c60481dcd1dd2",
   "metadata": {
    "ExecuteTime": {
     "end_time": "2024-12-24T11:12:10.535528Z",
     "start_time": "2024-12-24T11:12:10.529976Z"
    }
   },
   "outputs": [
    {
     "name": "stdout",
     "output_type": "stream",
     "text": [
      "ID: L001, Name: Kigali, Region: Central, Coordinates: (-1.9706, 30.1044)\n",
      "ID: L002, Name: Butare, Region: Southern, Coordinates: (-2.6013, 29.7494)\n",
      "ID: L003, Name: Musanze, Region: Northern, Coordinates: (-1.5021, 29.6831)\n",
      "ID: L004, Name: Rubavu, Region: Western, Coordinates: (-1.6872, 29.3737)\n",
      "ID: L005, Name: Nyamata, Region: Eastern, Coordinates: (-2.0145, 30.2653)\n",
      "ID: L006, Name: Huye, Region: Southern, Coordinates: (-2.9205, 29.7464)\n",
      "ID: L007, Name: Gisenyi, Region: Western, Coordinates: (-1.6969, 29.2401)\n",
      "ID: L008, Name: Kayonza, Region: Eastern, Coordinates: (-1.6597, 30.4953)\n",
      "ID: L009, Name: Ruhengeri, Region: Northern, Coordinates: (-1.4975, 29.6783)\n",
      "ID: L010, Name: Gicumbi, Region: Northern, Coordinates: (-1.6549, 29.8119)\n"
     ]
    }
   ],
   "source": [
    "for location in locations:\n",
    "      print(f\"ID: {location['id']}, \"\n",
    "              f\"Name: {location['name']}, \"\n",
    "              f\"Region: {location['region']}, \"\n",
    "              f\"Coordinates: {location['coordinates']}\")"
   ]
  },
  {
   "cell_type": "code",
   "execution_count": null,
   "id": "5a0fcdcdedb25543",
   "metadata": {},
   "outputs": [],
   "source": [
    "\n",
    " print(f\"ID: {location['id']}, \"\n",
    "              f\"Name: {location['name']}, \"\n",
    "              f\"Region: {location['region']}, \"\n",
    "              f\"Coordinates: {location['coordinates']}\")\n"
   ]
  },
  {
   "cell_type": "code",
   "execution_count": 13,
   "id": "e60d3aed4468f0b7",
   "metadata": {
    "ExecuteTime": {
     "end_time": "2024-12-24T09:34:54.981297Z",
     "start_time": "2024-12-24T09:34:54.973960Z"
    }
   },
   "outputs": [],
   "source": [
    "# A function to view the data\n",
    "\n",
    "def view_locations(a_list):\n",
    "    for location in a_list:\n",
    "        print(f\"Id: {location['id']}, Name: {location['name']}, Region: {location['region']}, Coordinates: {location['coordinates']}\")"
   ]
  },
  {
   "cell_type": "code",
   "execution_count": 14,
   "id": "501b761fb8a06bac",
   "metadata": {
    "ExecuteTime": {
     "end_time": "2024-12-24T09:34:58.523342Z",
     "start_time": "2024-12-24T09:34:58.519858Z"
    }
   },
   "outputs": [
    {
     "name": "stdout",
     "output_type": "stream",
     "text": [
      "Id: L001, Name: Kigali, Region: Central, Coordinates: (-1.9706, 30.1044)\n",
      "Id: L002, Name: Butare, Region: Southern, Coordinates: (-2.6013, 29.7494)\n",
      "Id: L003, Name: Musanze, Region: Northern, Coordinates: (-1.5021, 29.6831)\n",
      "Id: L004, Name: Rubavu, Region: Western, Coordinates: (-1.6872, 29.3737)\n",
      "Id: L005, Name: Nyamata, Region: Eastern, Coordinates: (-2.0145, 30.2653)\n",
      "Id: L006, Name: Huye, Region: Southern, Coordinates: (-2.9205, 29.7464)\n",
      "Id: L007, Name: Gisenyi, Region: Western, Coordinates: (-1.6969, 29.2401)\n",
      "Id: L008, Name: Kayonza, Region: Eastern, Coordinates: (-1.6597, 30.4953)\n",
      "Id: L009, Name: Ruhengeri, Region: Northern, Coordinates: (-1.4975, 29.6783)\n",
      "Id: L010, Name: Gicumbi, Region: Northern, Coordinates: (-1.6549, 29.8119)\n"
     ]
    }
   ],
   "source": [
    "view_locations(locations)"
   ]
  },
  {
   "cell_type": "markdown",
   "id": "42b0fd0585873b01",
   "metadata": {},
   "source": [
    "# Search Location"
   ]
  },
  {
   "cell_type": "code",
   "execution_count": 15,
   "id": "c6327c36cf614733",
   "metadata": {
    "ExecuteTime": {
     "end_time": "2024-12-24T12:04:09.259127Z",
     "start_time": "2024-12-24T12:04:09.252406Z"
    }
   },
   "outputs": [],
   "source": [
    "# Enable the user to search for locations by name or ID.\n",
    "\n",
    "def search_location(location_id, locations):\n",
    "    for location in locations:\n",
    "        if location['id'] == location_id:\n",
    "            print(f\"Location Found: \\n\"\n",
    "                    f\"ID: {location['id']}, Name: {location['name']}, Region: {location['region']}, Coordinates: {location['coordinates']}\")"
   ]
  },
  {
   "cell_type": "code",
   "execution_count": 12,
   "id": "d38bc1997c0473c3",
   "metadata": {
    "ExecuteTime": {
     "end_time": "2024-12-24T12:02:24.039744Z",
     "start_time": "2024-12-24T12:02:24.035301Z"
    }
   },
   "outputs": [
    {
     "name": "stdout",
     "output_type": "stream",
     "text": [
      "{'id': 'L001', 'name': 'Kigali', 'region': 'Central', 'coordinates': (-1.9706, 30.1044)}\n",
      "{'id': 'L002', 'name': 'Butare', 'region': 'Southern', 'coordinates': (-2.6013, 29.7494)}\n",
      "{'id': 'L003', 'name': 'Musanze', 'region': 'Northern', 'coordinates': (-1.5021, 29.6831)}\n",
      "{'id': 'L004', 'name': 'Rubavu', 'region': 'Western', 'coordinates': (-1.6872, 29.3737)}\n",
      "{'id': 'L005', 'name': 'Nyamata', 'region': 'Eastern', 'coordinates': (-2.0145, 30.2653)}\n",
      "{'id': 'L006', 'name': 'Huye', 'region': 'Southern', 'coordinates': (-2.9205, 29.7464)}\n",
      "{'id': 'L007', 'name': 'Gisenyi', 'region': 'Western', 'coordinates': (-1.6969, 29.2401)}\n",
      "{'id': 'L008', 'name': 'Kayonza', 'region': 'Eastern', 'coordinates': (-1.6597, 30.4953)}\n",
      "{'id': 'L009', 'name': 'Ruhengeri', 'region': 'Northern', 'coordinates': (-1.4975, 29.6783)}\n",
      "{'id': 'L010', 'name': 'Gicumbi', 'region': 'Northern', 'coordinates': (-1.6549, 29.8119)}\n"
     ]
    }
   ],
   "source": [
    "for location in locations:\n",
    "    print(location)"
   ]
  },
  {
   "cell_type": "code",
   "execution_count": 13,
   "id": "c4d137a2ef154fd0",
   "metadata": {
    "ExecuteTime": {
     "end_time": "2024-12-24T12:02:49.555467Z",
     "start_time": "2024-12-24T12:02:49.549607Z"
    }
   },
   "outputs": [
    {
     "name": "stdout",
     "output_type": "stream",
     "text": [
      "Location not found.\n",
      "Location not found.\n",
      "Location not found.\n",
      "Location Found: \n",
      "ID: L004, Name: Rubavu, Region: Western, Coordinates: (-1.6872, 29.3737)\n",
      "Location not found.\n",
      "Location not found.\n",
      "Location not found.\n",
      "Location not found.\n",
      "Location not found.\n",
      "Location not found.\n"
     ]
    }
   ],
   "source": [
    "search_id = 'L004'\n",
    "\n",
    "for locations in locations:\n",
    "    if locations['id'] == search_id:\n",
    "        print(f\"Location Found: \\n\"\n",
    "              f\"ID: {locations['id']}, Name: {locations['name']}, Region: {locations['region']}, Coordinates: {locations['coordinates']}\")\n",
    "    else:\n",
    "        print(\"Location not found.\")"
   ]
  },
  {
   "cell_type": "code",
   "execution_count": 18,
   "id": "d597b6aad83424f3",
   "metadata": {
    "ExecuteTime": {
     "end_time": "2024-12-24T12:04:39.029710Z",
     "start_time": "2024-12-24T12:04:30.876542Z"
    }
   },
   "outputs": [
    {
     "name": "stdout",
     "output_type": "stream",
     "text": [
      "Location Found: \n",
      "ID: L007, Name: Gisenyi, Region: Western, Coordinates: (-1.6969, 29.2401)\n",
      "None\n"
     ]
    }
   ],
   "source": [
    "locations = [\n",
    "{\"id\": \"L001\", \"name\": \"Kigali\", \"region\": \"Central\", \"coordinates\": (-1.9706, 30.1044)},\n",
    "{\"id\": \"L002\", \"name\": \"Butare\", \"region\": \"Southern\", \"coordinates\": (-2.6013, 29.7494)},\n",
    "{\"id\": \"L003\", \"name\": \"Musanze\", \"region\": \"Northern\", \"coordinates\": (-1.5021, 29.6831)},\n",
    "{\"id\": \"L004\", \"name\": \"Rubavu\", \"region\": \"Western\", \"coordinates\": (-1.6872, 29.3737)},\n",
    "{\"id\": \"L005\", \"name\": \"Nyamata\", \"region\": \"Eastern\", \"coordinates\": (-2.0145, 30.2653)},\n",
    "{\"id\": \"L006\", \"name\": \"Huye\", \"region\": \"Southern\", \"coordinates\": (-2.9205, 29.7464)},\n",
    "{\"id\": \"L007\", \"name\": \"Gisenyi\", \"region\": \"Western\", \"coordinates\": (-1.6969, 29.2401)},\n",
    "{\"id\": \"L008\", \"name\": \"Kayonza\", \"region\": \"Eastern\", \"coordinates\": (-1.6597, 30.4953)},\n",
    "{\"id\": \"L009\", \"name\": \"Ruhengeri\", \"region\": \"Northern\", \"coordinates\": (-1.4975, 29.6783)},\n",
    "{\"id\": \"L010\", \"name\": \"Gicumbi\", \"region\": \"Northern\", \"coordinates\": (-1.6549, 29.8119)}\n",
    "]\n",
    "\n",
    "location_id = input(\"Enter a Location ID: \")\n",
    "print(search_location(location_id, locations))"
   ]
  },
  {
   "cell_type": "markdown",
   "id": "f78218ff3e9b37b3",
   "metadata": {},
   "source": [
    "# Filter Locations\n",
    "\n",
    "o Allow the user to filter and view locations based on a specific region."
   ]
  },
  {
   "cell_type": "code",
   "execution_count": 20,
   "id": "20d15b0f3bed0c8a",
   "metadata": {
    "ExecuteTime": {
     "end_time": "2024-12-24T10:46:03.928726Z",
     "start_time": "2024-12-24T10:45:58.837091Z"
    }
   },
   "outputs": [
    {
     "name": "stdout",
     "output_type": "stream",
     "text": [
      "ID: L004, Name: Rubavu, Region: Western, Coordinates: (-1.6872, 29.3737)\n",
      "ID: L007, Name: Gisenyi, Region: Western, Coordinates: (-1.6969, 29.2401)\n"
     ]
    }
   ],
   "source": [
    "filter_input = input(\"Enter a region to filter by: \")\n",
    "found = False\n",
    "for location in locations:\n",
    "    if location['region'] == filter_input:\n",
    "        print(f\"ID: {location['id']}, Name: {location['name']}, Region: {location['region']}, Coordinates: {location['coordinates']}\")\n",
    "        found = True\n",
    "\n",
    "if not found:\n",
    "    print(\"Region not found.\")"
   ]
  },
  {
   "cell_type": "markdown",
   "id": "7d77b25fa2169cad",
   "metadata": {},
   "source": [
    "### The program below is so much better than mine."
   ]
  },
  {
   "cell_type": "code",
   "execution_count": 17,
   "id": "953d3e50ca8e2874",
   "metadata": {
    "ExecuteTime": {
     "end_time": "2024-12-24T10:32:50.303867Z",
     "start_time": "2024-12-24T10:32:45.716026Z"
    }
   },
   "outputs": [
    {
     "name": "stdout",
     "output_type": "stream",
     "text": [
      "ID: L004, Name: Rubavu, Region: Western, Coordinates: (-1.6872, 29.3737)\n",
      "ID: L007, Name: Gisenyi, Region: Western, Coordinates: (-1.6969, 29.2401)\n"
     ]
    }
   ],
   "source": [
    "# Prompt the user to enter the region they want to filter the locations by\n",
    "filter_input = input(\"Enter a region to filter locations by: \")\n",
    "\n",
    "# Use the `filter` function to filter locations in the list where the 'region' matches the user input.\n",
    "# A lambda function is used to check if the 'region' key of each dictionary matches `filter_input`.\n",
    "filtered_locations = list(filter(lambda loc: loc['region'] == filter_input, locations))\n",
    "\n",
    "# Check if any locations match the filtered criteria\n",
    "if filtered_locations:\n",
    "    # Iterate over the filtered list and print the details of each matched location\n",
    "    for location in filtered_locations:\n",
    "        print(f\"ID: {location['id']}, Name: {location['name']}, Region: {location['region']}, Coordinates: {location['coordinates']}\")\n",
    "else:\n",
    "    # Print a message if no locations match the user's input\n",
    "    print(\"No locations found for the specified region.\")"
   ]
  },
  {
   "cell_type": "code",
   "execution_count": 16,
   "id": "2eb5031ac93106ca",
   "metadata": {
    "ExecuteTime": {
     "end_time": "2024-12-24T10:03:43.114804Z",
     "start_time": "2024-12-24T10:03:38.475510Z"
    }
   },
   "outputs": [
    {
     "data": {
      "text/plain": [
       "[{'id': 'L004',\n",
       "  'name': 'Rubavu',\n",
       "  'region': 'Western',\n",
       "  'coordinates': (-1.6872, 29.3737)},\n",
       " {'id': 'L007',\n",
       "  'name': 'Gisenyi',\n",
       "  'region': 'Western',\n",
       "  'coordinates': (-1.6969, 29.2401)}]"
      ]
     },
     "execution_count": 16,
     "metadata": {},
     "output_type": "execute_result"
    }
   ],
   "source": [
    "filter_input = input(\"Enter a region to filter by: \")\n",
    "\n",
    "filtered_locations = filter(lambda location: location['region'] == filter_input, locations)\n",
    "list(filtered_locations)"
   ]
  },
  {
   "cell_type": "markdown",
   "id": "61fac7bc224abccb",
   "metadata": {},
   "source": [
    "The if statement in the code is checking whether the list filtered_locations contains any items (i.e., whether it's non-empty). Here's a breakdown of how the condition is evaluated:\n",
    "\n",
    "python\n",
    "Copy code\n",
    "if filtered_locations:\n",
    "1. filtered_locations is a list:\n",
    "filtered_locations is the result of applying the filter() function, which returns an iterable (in this case, a list after it's wrapped with list()).\n",
    "The filter() function takes a function (in this case, a lambda) and a sequence (in this case, locations), and filters the sequence by applying the function to each element. The result is a filtered list of locations where the region matches the filter_input.\n",
    "2. The condition if filtered_locations: checks the truthiness of the list:\n",
    "In Python, a list is considered truthy if it contains at least one element, and falsy if it is empty.\n",
    "So, the if filtered_locations: statement will evaluate as follows:\n",
    "If filtered_locations is non-empty (i.e., there is at least one location that matches the region filter), the condition evaluates to True, and the code inside the if block will run (the for loop will print the location details).\n",
    "If filtered_locations is empty (i.e., no locations match the region), the condition evaluates to False, and the code inside the else block will run, printing \"No locations found for the specified region.\""
   ]
  },
  {
   "cell_type": "markdown",
   "id": "97ab3eb194a892a9",
   "metadata": {},
   "source": [
    "# Calculating Distance\n",
    "\n",
    "# Euclidean_Distance = lambda point_a, point_b: ((point_a[0] - point_b[0]) ** 2 + (point_a[1] - point_b[1]) ** 2) ** 0.5\n",
    "Euclidean Distance"
   ]
  },
  {
   "cell_type": "code",
   "id": "ad082d7c4bf18a6e",
   "metadata": {
    "ExecuteTime": {
     "end_time": "2024-12-24T13:37:22.657416Z",
     "start_time": "2024-12-24T13:37:22.651837Z"
    }
   },
   "source": [
    "def calculate_distance(point_a, point_b):\n",
    "    \"\"\"\n",
    "    Calculates the approximate distance between two geographical points using the\n",
    "    Euclidean distance formula, scaled by 111 to approximate the distance in kilometers.\n",
    "\n",
    "    :param point_a: A tuple representing the first geographical point as (latitude, longitude).\n",
    "    :type point_a: tuple[float, float]\n",
    "    :param point_b: A tuple representing the second geographical point as (latitude, longitude).\n",
    "    :type point_b: tuple[float, float]\n",
    "\n",
    "    :return: The approximate distance in kilometers between the two geographical points.\n",
    "    :rtype: float\n",
    "    \"\"\"\n",
    "    return (((point_a[0] - point_b[0]) ** 2 + (point_a[1] - point_b[1]) ** 2) ** 0.5) * 111"
   ],
   "outputs": [],
   "execution_count": 21
  },
  {
   "metadata": {
    "ExecuteTime": {
     "end_time": "2024-12-24T13:37:23.029528Z",
     "start_time": "2024-12-24T13:37:23.027070Z"
    }
   },
   "cell_type": "code",
   "source": [
    "point_a = locations[0]['coordinates']\n",
    "point_b = locations[1]['coordinates']\n",
    "\n",
    "print(calculate_distance(point_a, point_b))"
   ],
   "id": "c42f538991fac5ed",
   "outputs": [
    {
     "name": "stdout",
     "output_type": "stream",
     "text": [
      "80.33574599323751\n"
     ]
    }
   ],
   "execution_count": 22
  },
  {
   "metadata": {
    "ExecuteTime": {
     "end_time": "2024-12-24T14:55:06.581686Z",
     "start_time": "2024-12-24T14:55:06.578468Z"
    }
   },
   "cell_type": "code",
   "source": "# Total Regions",
   "id": "602a9e56cf71de07",
   "outputs": [],
   "execution_count": 25
  },
  {
   "metadata": {
    "ExecuteTime": {
     "end_time": "2024-12-24T15:04:08.061417Z",
     "start_time": "2024-12-24T15:04:01.118961Z"
    }
   },
   "cell_type": "code",
   "source": [
    "east_locations = 0\n",
    "west_locations = 0\n",
    "north_locations = 0\n",
    "south_locations = 0\n",
    "central_locations = 0\n",
    "\n",
    "for location in locations:\n",
    "    if location['region'] == 'Eastern':\n",
    "        east_locations += 1\n",
    "    elif location['region'] == 'Western':\n",
    "        west_locations += 1\n",
    "    elif location['region'] == 'Northern':\n",
    "        north_locations += 1\n",
    "    elif location['region'] == 'Southern':\n",
    "        south_locations += 1\n",
    "    else:\n",
    "        central_locations += 1\n",
    "\n",
    "location_input = input('Enter location: ')\n",
    "if location_input == 'Eastern':\n",
    "    print('East Locations: ', east_locations)\n",
    "elif location_input == 'Western':\n",
    "    print('West Locations: ', west_locations)\n",
    "elif location_input == 'Northern':\n",
    "    print('North Locations: ', north_locations)\n",
    "elif location_input == 'Southern':\n",
    "    print('South Locations: ', south_locations)\n",
    "elif location_input == 'Central':\n",
    "    print('Central Locations: ', central_locations)\n",
    "else:\n",
    "    print('Invalid location')"
   ],
   "id": "965c45664a4e74f",
   "outputs": [
    {
     "name": "stdout",
     "output_type": "stream",
     "text": [
      "North Locations:  3\n"
     ]
    }
   ],
   "execution_count": 31
  },
  {
   "metadata": {
    "ExecuteTime": {
     "end_time": "2024-12-24T15:04:16.652648Z",
     "start_time": "2024-12-24T15:04:16.648678Z"
    }
   },
   "cell_type": "code",
   "source": [
    "from geo_analysis.Insights import total_regions\n",
    "\n",
    "total_regions(locations)"
   ],
   "id": "270f960a3f74a68b",
   "outputs": [
    {
     "name": "stdout",
     "output_type": "stream",
     "text": [
      "East:  0\n",
      "West:  0\n",
      "North:  0\n",
      "South:  0\n",
      "Central:  10\n"
     ]
    }
   ],
   "execution_count": 32
  },
  {
   "metadata": {
    "ExecuteTime": {
     "end_time": "2024-12-24T15:12:10.573175Z",
     "start_time": "2024-12-24T15:12:10.569635Z"
    }
   },
   "cell_type": "code",
   "source": "# Farthest Distance",
   "id": "4438ef5e7501e60f",
   "outputs": [],
   "execution_count": 33
  },
  {
   "metadata": {
    "ExecuteTime": {
     "end_time": "2024-12-24T15:31:22.384173Z",
     "start_time": "2024-12-24T15:31:22.380680Z"
    }
   },
   "cell_type": "code",
   "source": [
    "# The algorithm to be used to select the right two points to calculate distance\n",
    "\n",
    "loc = ['A', 'B', 'C']\n",
    "iterations = 0\n",
    "i = 0\n",
    "for point_a in loc:\n",
    "    i += 1\n",
    "    for point_b in loc[i:]:\n",
    "        print(point_a + point_b)\n",
    "\n",
    "print(iterations)\n"
   ],
   "id": "80e20eb098f0a872",
   "outputs": [
    {
     "name": "stdout",
     "output_type": "stream",
     "text": [
      "AB\n",
      "AC\n",
      "BC\n",
      "0\n"
     ]
    }
   ],
   "execution_count": 49
  },
  {
   "metadata": {
    "ExecuteTime": {
     "end_time": "2024-12-24T15:27:10.341902Z",
     "start_time": "2024-12-24T15:27:10.332779Z"
    }
   },
   "cell_type": "code",
   "source": [
    "i = 0\n",
    "\n",
    "# Initially, the farthest distance will be 0.\n",
    "furthest_distance = 0\n",
    "for point_a in locations:\n",
    "    i += 1\n",
    "    for point_b in locations[i:]:\n",
    "        distance = calculate_distance(point_a['coordinates'], point_b['coordinates'])\n",
    "        if distance > furthest_distance:\n",
    "            furthest_distance = distance"
   ],
   "id": "b869c859b689d183",
   "outputs": [
    {
     "name": "stdout",
     "output_type": "stream",
     "text": [
      "[1, 2, 3]\n"
     ]
    }
   ],
   "execution_count": 39
  },
  {
   "metadata": {
    "ExecuteTime": {
     "end_time": "2024-12-24T15:38:21.796288Z",
     "start_time": "2024-12-24T15:38:21.788791Z"
    }
   },
   "cell_type": "code",
   "source": [
    "# Function to calculate the furthest distance between location in a region.\n",
    "\n",
    "def further_distance(list_of_locations, region):\n",
    "    i = 0\n",
    "    farthest_distance = 0\n",
    "    for point_a in list_of_locations:\n",
    "        i += 1\n",
    "        for point_b in list_of_locations[i:]:\n",
    "            distance = calculate_distance(point_a['coordinates'], point_b['coordinates'])\n",
    "            if distance > farthest_distance:\n",
    "                furthest_distance = distance\n",
    "\n",
    "    return farthest_distance"
   ],
   "id": "7e85d446c47672e9",
   "outputs": [],
   "execution_count": 50
  },
  {
   "metadata": {
    "ExecuteTime": {
     "end_time": "2024-12-24T16:40:50.137823Z",
     "start_time": "2024-12-24T16:40:50.132737Z"
    }
   },
   "cell_type": "code",
   "source": [
    "# We will be getting the region using the filter function\n",
    "from geo_analysis.Filtering import filter_by_region\n",
    "from geo_analysis.DataHandling import view_locations\n",
    "\n",
    "region_locations = filter_by_region(locations, 'Northern')\n",
    "\n",
    "print(\"The farthest distance in the North: \", further_distance(region_locations, 'Northern'))"
   ],
   "id": "aa2b94c200caeaa6",
   "outputs": [
    {
     "name": "stdout",
     "output_type": "stream",
     "text": [
      "The farthest distance in the North:  22.916519240931947\n"
     ]
    }
   ],
   "execution_count": 68
  },
  {
   "metadata": {
    "ExecuteTime": {
     "end_time": "2024-12-24T15:46:09.978412Z",
     "start_time": "2024-12-24T15:46:09.973328Z"
    }
   },
   "cell_type": "code",
   "source": [
    "# Let's calculate the distance between them each manually to compare the results\n",
    "\n",
    "# Musanze and Ruhengeri\n",
    "\n",
    "point_a = region_locations[0]['coordinates'] # Musanze\n",
    "point_b = region_locations[1]['coordinates'] # Ruhengeri\n",
    "\n",
    "distance = (((point_a[0] - point_b[0]) ** 2 + (point_a[1] - point_b[1]) ** 2 ) ** 0.5) * 111\n",
    "print(distance)"
   ],
   "id": "d87fcffd8b71a352",
   "outputs": [
    {
     "name": "stdout",
     "output_type": "stream",
     "text": [
      "0.7379621941535558\n"
     ]
    }
   ],
   "execution_count": 62
  },
  {
   "metadata": {
    "ExecuteTime": {
     "end_time": "2024-12-24T16:38:06.075939Z",
     "start_time": "2024-12-24T16:38:06.052335Z"
    }
   },
   "cell_type": "code",
   "source": [
    "# Musanze and Gicumbi\n",
    "\n",
    "point_a = region_locations[0]['coordinates'] # Musanze\n",
    "point_b = region_locations[2]['coordinates'] # Gicumbi\n",
    "\n",
    "distance = (((point_a[0] - point_b[0]) ** 2 + (point_a[1] - point_b[1]) ** 2 ) ** 0.5) * 111\n",
    "print(distance)"
   ],
   "id": "f833aa62648acee4",
   "outputs": [
    {
     "name": "stdout",
     "output_type": "stream",
     "text": [
      "22.182588371964304\n"
     ]
    }
   ],
   "execution_count": 63
  },
  {
   "metadata": {
    "ExecuteTime": {
     "end_time": "2024-12-24T16:38:39.593982Z",
     "start_time": "2024-12-24T16:38:39.590356Z"
    }
   },
   "cell_type": "code",
   "source": [
    "# Ruhengeri and Gicumbi\n",
    "\n",
    "point_a = region_locations[1]['coordinates'] # Musanze\n",
    "point_b = region_locations[2]['coordinates'] # Ruhengeri\n",
    "\n",
    "distance = (((point_a[0] - point_b[0]) ** 2 + (point_a[1] - point_b[1]) ** 2 ) ** 0.5) * 111\n",
    "print(distance)"
   ],
   "id": "50660896940728de",
   "outputs": [
    {
     "name": "stdout",
     "output_type": "stream",
     "text": [
      "22.916519240931947\n"
     ]
    }
   ],
   "execution_count": 65
  },
  {
   "metadata": {
    "ExecuteTime": {
     "end_time": "2024-12-24T16:43:15.802714Z",
     "start_time": "2024-12-24T16:43:15.798022Z"
    }
   },
   "cell_type": "code",
   "source": [
    "# We will be getting the region using the filter function\n",
    "from geo_analysis.Filtering import filter_by_region\n",
    "from geo_analysis.DataHandling import view_locations\n",
    "\n",
    "region_locations = filter_by_region(locations, 'Northern')\n",
    "\n",
    "print(\"The farthest distance in the North: \", further_distance(region_locations, 'Northern'))"
   ],
   "id": "690bf6b862f38bca",
   "outputs": [
    {
     "name": "stdout",
     "output_type": "stream",
     "text": [
      "The farthest distance in the North:  22.916519240931947\n"
     ]
    }
   ],
   "execution_count": 69
  },
  {
   "metadata": {
    "ExecuteTime": {
     "end_time": "2024-12-24T17:09:43.989060Z",
     "start_time": "2024-12-24T17:09:43.983326Z"
    }
   },
   "cell_type": "code",
   "source": "from geo_analysis.Insights import total_regionss",
   "id": "e8ba81e60bff47b3",
   "outputs": [],
   "execution_count": 2
  },
  {
   "metadata": {
    "ExecuteTime": {
     "end_time": "2024-12-24T17:09:52.421111Z",
     "start_time": "2024-12-24T17:09:52.419411Z"
    }
   },
   "cell_type": "code",
   "source": "from geo_analysis.Insights import furthest_distance\n",
   "id": "e6a773b2f83a282",
   "outputs": [],
   "execution_count": 4
  },
  {
   "metadata": {},
   "cell_type": "code",
   "outputs": [],
   "execution_count": null,
   "source": "",
   "id": "46b27dc99a00f9ef"
  }
 ],
 "metadata": {
  "kernelspec": {
   "display_name": "Python 3 (ipykernel)",
   "language": "python",
   "name": "python3"
  },
  "language_info": {
   "codemirror_mode": {
    "name": "ipython",
    "version": 3
   },
   "file_extension": ".py",
   "mimetype": "text/x-python",
   "name": "python",
   "nbconvert_exporter": "python",
   "pygments_lexer": "ipython3",
   "version": "3.12.4"
  }
 },
 "nbformat": 4,
 "nbformat_minor": 5
}
