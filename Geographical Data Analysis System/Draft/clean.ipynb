{
 "cells": [
  {
   "cell_type": "markdown",
   "id": "31eed843-cec2-4993-a42b-e53dcd846da1",
   "metadata": {},
   "source": [
    "# 1. Data"
   ]
  },
  {
   "cell_type": "code",
   "execution_count": 1,
   "id": "cfda3e49-d85e-4c5b-89cc-873da502c8e7",
   "metadata": {},
   "outputs": [],
   "source": [
    "locations = [\n",
    "    {\"id\": \"L001\", \"name\": \"Kigali\", \"region\": \"Central\", \"coordinates\": (-1.9706, 30.1044)},\n",
    "    {\"id\": \"L002\", \"name\": \"Butare\", \"region\": \"Southern\", \"coordinates\": (-2.6013, 29.7494)},\n",
    "    {\"id\": \"L003\", \"name\": \"Musanze\", \"region\": \"Northern\", \"coordinates\": (-1.5021, 29.6831)},\n",
    "    {\"id\": \"L004\", \"name\": \"Rubavu\", \"region\": \"Western\", \"coordinates\": (-1.6872, 29.3737)},\n",
    "    {\"id\": \"L005\", \"name\": \"Nyamata\", \"region\": \"Eastern\", \"coordinates\": (-2.0145, 30.2653)},\n",
    "    {\"id\": \"L006\", \"name\": \"Huye\", \"region\": \"Southern\", \"coordinates\": (-2.9205, 29.7464)},\n",
    "    {\"id\": \"L007\", \"name\": \"Gisenyi\", \"region\": \"Western\", \"coordinates\": (-1.6969, 29.2401)},\n",
    "    {\"id\": \"L008\", \"name\": \"Kayonza\", \"region\": \"Eastern\", \"coordinates\": (-1.6597, 30.4953)},\n",
    "    {\"id\": \"L009\", \"name\": \"Ruhengeri\", \"region\": \"Northern\", \"coordinates\": (-1.4975, 29.6783)},\n",
    "    {\"id\": \"L010\", \"name\": \"Gicumbi\", \"region\": \"Northern\", \"coordinates\": (-1.6549, 29.8119)}\n",
    "]"
   ]
  },
  {
   "cell_type": "markdown",
   "id": "da27454f-ba23-4299-a4ba-aacc676362f7",
   "metadata": {},
   "source": [
    "# 2. View Locations\n",
    "\n",
    "The view only one function was necessary because the codes were used more than once."
   ]
  },
  {
   "cell_type": "code",
   "execution_count": 10,
   "id": "43219041-bbb3-4284-9b44-7661f699da2f",
   "metadata": {},
   "outputs": [],
   "source": [
    "def view_location(a_list):\n",
    "    \"\"\"\n",
    "    Receives a list of locations and displays them in a clean format.\n",
    "    \"\"\"\n",
    "    for location in a_list:\n",
    "        print(f\"ID: {location['id']}, \"\n",
    "              f\"Name: {location['name']}, \"\n",
    "              f\"Region: {location['region']}, \"\n",
    "              f\"Coordinates: {location['coordinates']}\")\n",
    "\n",
    "\n",
    "# View only one location\n",
    "def view_one_location(a_location):\n",
    "    print(f\"ID: {a_location['id']}, \"\n",
    "              f\"Name: {a_location['name']}, \"\n",
    "              f\"Region: {a_location['region']}, \"\n",
    "              f\"Coordinates: {a_location['coordinates']}\")"
   ]
  },
  {
   "cell_type": "markdown",
   "id": "92845c72-c2d7-4cb8-9e1c-d040dc18cfef",
   "metadata": {},
   "source": [
    "# 3. Search Location"
   ]
  },
  {
   "cell_type": "code",
   "execution_count": 3,
   "id": "d17cdd75-9f3f-4160-bcd1-9a8af34e1f56",
   "metadata": {},
   "outputs": [],
   "source": [
    "def search_location(locations, location_id):\n",
    "    \"\"\" \n",
    "    Takes a list of locations and a location ID to search for in the given list.\n",
    "    \n",
    "    :param locations: A list of locations\n",
    "    :type locations: list[dict]\n",
    "    \n",
    "    :param location_id: Unique identifier of the location to be searched\n",
    "    :type location_id: str\n",
    "    \n",
    "    :return: The location as a dictionary, or a NoneType object if the location is not found.\n",
    "    :rtype: dict or NoneType\n",
    "    \n",
    "    \"\"\"\n",
    "    for location in locations:\n",
    "        if location['id'] == location_id:\n",
    "            return location\n",
    "    return None"
   ]
  },
  {
   "cell_type": "markdown",
   "id": "3c999ce6-d9cc-4940-bc76-7adbf1cae2f3",
   "metadata": {},
   "source": [
    "# 4. Distance Between Locations"
   ]
  },
  {
   "cell_type": "code",
   "execution_count": 4,
   "id": "556bce40-4022-4901-ac91-eb5ed7fc8718",
   "metadata": {},
   "outputs": [],
   "source": [
    "def calculate_distance(point_a, point_b):\n",
    "    \"\"\"\n",
    "    Receive two coordinates and calculates the distance between them using a simple Euclidean Distance Formula\n",
    "\n",
    "    :param point_a: Location 1 coordinates.\n",
    "    :type point_a: tuple\n",
    "\n",
    "    :param point_b: Location 2 coordinates.\n",
    "    :type point_b: tuple\n",
    "\n",
    "    :return: Return the calculated distance between the two given points\n",
    "    :rtype: float\n",
    "    \"\"\"\n",
    "    return (((point_a[0] - point_b[0]) ** 2 + (point_a[1] - point_b[1]) ** 2 ) ** 0.5) * 111"
   ]
  },
  {
   "cell_type": "markdown",
   "id": "965f1501-7ff5-4ae9-97ac-183585ab0249",
   "metadata": {},
   "source": [
    "# 5. Filtering"
   ]
  },
  {
   "cell_type": "code",
   "execution_count": 5,
   "id": "57bdabbd-3b24-45ea-9a92-07f0ec3880ce",
   "metadata": {},
   "outputs": [],
   "source": [
    "def filter_by_region(locations, region):\n",
    "    \"\"\"\n",
    "    Takes a list of locations and a region and return a new list of locations from the specified region.\n",
    "\n",
    "    :param locations: A list of locations\n",
    "    :type locations: list[dict]\n",
    "    \n",
    "    :param region: A geographical region\n",
    "    :type region: str\n",
    "\n",
    "    :return: A list with locations from the specified region\n",
    "    :rtype: list[dict]\n",
    "    \n",
    "    \"\"\"\n",
    "    filtered_locations = []\n",
    "    for location in locations:\n",
    "        if location['region'] == region:\n",
    "            filtered_locations.append(location)\n",
    "    return filtered_locations"
   ]
  },
  {
   "cell_type": "markdown",
   "id": "04f44dff-1842-41bb-9888-e2b1bf3b424c",
   "metadata": {},
   "source": [
    "# 6. Total Locations in a Region"
   ]
  },
  {
   "cell_type": "code",
   "execution_count": 6,
   "id": "6a95198e-7c71-4d12-b861-6d457be2f11b",
   "metadata": {},
   "outputs": [],
   "source": [
    "def total_locations(locations, region):\n",
    "    # Filter by Region\n",
    "    filtered_list = filter_by_region(locations, region)\n",
    "    return len(filtered_list)"
   ]
  },
  {
   "cell_type": "markdown",
   "id": "5288c30f-ef8e-423c-ba21-49d034dd20fa",
   "metadata": {},
   "source": [
    "# 7. Furthest Distance "
   ]
  },
  {
   "cell_type": "code",
   "execution_count": 7,
   "id": "acede07b-5d3d-4c10-8e95-352f7ba302fe",
   "metadata": {},
   "outputs": [],
   "source": [
    "def furthest_distance(list_of_locations):\n",
    "    # This should receive a filtered location_list\n",
    "    i = 0\n",
    "    farthest_distance = 0\n",
    "    for point_a in list_of_locations:\n",
    "        i += 1\n",
    "        for point_b in list_of_locations[i:]:\n",
    "            distance = calculate_distance(point_a['coordinates'], point_b['coordinates'])\n",
    "            if distance > farthest_distance:\n",
    "                farthest_distance = distance\n",
    "                location_1 = point_a\n",
    "                location_2 = point_b\n",
    "\n",
    "    return farthest_distance, location_1, location_2"
   ]
  },
  {
   "cell_type": "markdown",
   "id": "4fb0153c-89f8-404b-ab57-f4097aedf9fb",
   "metadata": {},
   "source": [
    "# Interactive Menu"
   ]
  },
  {
   "cell_type": "code",
   "execution_count": null,
   "id": "a7b508e3-0491-4436-9fba-5d509ca0dc83",
   "metadata": {},
   "outputs": [
    {
     "name": "stdout",
     "output_type": "stream",
     "text": [
      "\n",
      "The Menu:\n",
      "    1. View Locations\n",
      "    2. Search Location\n",
      "    3. Filter by Region\n",
      "    4. Calculate Distance \n",
      "    5. Total Locations per Region\n",
      "    6. Furthest Distance\n",
      "    7. Quit\n",
      "\n"
     ]
    },
    {
     "name": "stdin",
     "output_type": "stream",
     "text": [
      "Choice:  3\n"
     ]
    },
    {
     "name": "stdout",
     "output_type": "stream",
     "text": [
      "Filter by Region\n"
     ]
    },
    {
     "name": "stdin",
     "output_type": "stream",
     "text": [
      "Enter Region:  L001\n"
     ]
    },
    {
     "name": "stdout",
     "output_type": "stream",
     "text": [
      "\n",
      " Region Not Found!\n",
      "\n",
      "\n"
     ]
    },
    {
     "name": "stdin",
     "output_type": "stream",
     "text": [
      "Your Choice:  2\n"
     ]
    },
    {
     "name": "stdout",
     "output_type": "stream",
     "text": [
      "Search Location\n"
     ]
    },
    {
     "name": "stdin",
     "output_type": "stream",
     "text": [
      "Enter Location ID to search:  L001\n"
     ]
    },
    {
     "name": "stdout",
     "output_type": "stream",
     "text": [
      "\n",
      "Location Found: \n",
      "ID: L001, Name: Kigali, Region: Central, Coordinates: (-1.9706, 30.1044)\n",
      "\n",
      "\n"
     ]
    }
   ],
   "source": [
    "print(\"\"\"\n",
    "The Menu:\n",
    "    1. View Locations\n",
    "    2. Search Location\n",
    "    3. Filter by Region\n",
    "    4. Calculate Distance \n",
    "    5. Total Locations per Region\n",
    "    6. Furthest Distance\n",
    "    7. Quit\n",
    "\"\"\")\n",
    "\n",
    "try: \n",
    "    choice = int(input(\"Choice: \"))\n",
    "    \n",
    "    while choice != 7:\n",
    "\n",
    "        # View Location\n",
    "        if choice == 1:\n",
    "            view_location(locations)\n",
    "\n",
    "        \n",
    "        #Search Location\n",
    "        elif choice == 2:\n",
    "            print(\"Search Location\")\n",
    "            location_id = input(\"Enter Location ID to search: \")\n",
    "            the_location = search_location(locations, location_id)\n",
    "\n",
    "            if the_location:\n",
    "                print(\"\\nLocation Found: \")\n",
    "                view_one_location(the_location)\n",
    "            else: \n",
    "                print(\"\\nLocation Not Found!\")\n",
    "\n",
    "        \n",
    "        # Filter by Region\n",
    "        elif choice == 3:\n",
    "            print(\"Filter by Region\")\n",
    "            region = input(\"Enter Region: \")\n",
    "            filtered_list = filter_by_region(locations, region)\n",
    "\n",
    "            if filtered_list: \n",
    "                print(f\"\\n{len(filtered_list)} locations found: \") \n",
    "                view_location(filtered_list)\n",
    "            else: \n",
    "                print(\"\\n Region Not Found!\")\n",
    "\n",
    "\n",
    "        # Distance between two point.\n",
    "        elif choice == 4: \n",
    "            print(\"Calculate Distance\")\n",
    "            location_1 = input(\"First Location ID: \")\n",
    "            location_2 = input(\"Second Location ID: \")\n",
    "\n",
    "            # Search for the locations - returns NONE if no found.\n",
    "            first_location = search_location(locations, location_1)\n",
    "            second_location = search_location(locations, location_2)\n",
    "\n",
    "            # Check if the locations are found, both of them.\n",
    "            if first_location and second_location: \n",
    "                # Get the coordinates\n",
    "                point_a = first_location['coordinates']\n",
    "                point_b = second_location['coordinates']\n",
    "                \n",
    "                print(f\"Distance between {first_location['name']} and {second_location['name']} is {calculate_distance(point_a, point_b)} km\")\n",
    "                \n",
    "            else: \n",
    "                # Check which location not found to provide a specific message to the user:\n",
    "                if not first_location and second_location:\n",
    "                    print(f\"Location with ID: {location_1} was not found\")\n",
    "                    \n",
    "                elif first_location and not second_location:\n",
    "                    print(f\"Location with ID: {location_2} was not found\")\n",
    "                    \n",
    "                else: \n",
    "                    print(\"No location found\")\n",
    "                \n",
    "\n",
    "        # Total Locations per Region\n",
    "        elif choice == 5:\n",
    "            print(\"total Locations per Region\")\n",
    "            region = input(\"Enter the Region: \")\n",
    "            \n",
    "            # Filter by Region\n",
    "            region_locations = filter_by_region(locations, region)\n",
    "            if region_locations: \n",
    "                print(f\"\\nThe {region} region has {len(region_locations)} locations.\")\n",
    "            else: \n",
    "                print(\"\\nRegion not Found\")\n",
    "            \n",
    "\n",
    "\n",
    "        # The Furthest Distance in a Region\n",
    "        elif choice == 6:\n",
    "            print(\"Furthest Distance\")\n",
    "            region = input(\"Region: \")\n",
    "            filtered_list = filter_by_region(locations, region)\n",
    "            if filtered_list:\n",
    "                farthest, location1, location2 = furthest_distance(filtered_list) # Tuple unpacking.\n",
    "                print(f\"Farthest: {farthest} between {location1['name']} and {location2['name']}\")\n",
    "            else: \n",
    "                print(\"\\nProgram Terminated: Location not Found\")\n",
    "            \n",
    "        elif choice == 7: # I don't think this one will be necessary.\n",
    "            print(\"Quit\")\n",
    "\n",
    "\n",
    "        # Default\n",
    "        else: \n",
    "            print(\"Invalid Choice\")\n",
    "        \n",
    "        print(\"\\n\")\n",
    "        choice = int(input(\"Your Choice: \"))\n",
    "\n",
    "    print(\"Program Quit!\")\n",
    "\n",
    "except ValueError: \n",
    "    print(\"Program Terminated. Use Numeric Values Only.\")"
   ]
  },
  {
   "cell_type": "code",
   "execution_count": null,
   "id": "be997903-02c7-40be-a2a2-04f7559c32d4",
   "metadata": {},
   "outputs": [],
   "source": []
  }
 ],
 "metadata": {
  "kernelspec": {
   "display_name": "Python 3 (ipykernel)",
   "language": "python",
   "name": "python3"
  },
  "language_info": {
   "codemirror_mode": {
    "name": "ipython",
    "version": 3
   },
   "file_extension": ".py",
   "mimetype": "text/x-python",
   "name": "python",
   "nbconvert_exporter": "python",
   "pygments_lexer": "ipython3",
   "version": "3.13.0"
  }
 },
 "nbformat": 4,
 "nbformat_minor": 5
}
