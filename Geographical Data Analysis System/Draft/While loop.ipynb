{
 "cells": [
  {
   "cell_type": "code",
   "execution_count": 1,
   "id": "cd21ac0a-71f6-44aa-b335-c6d180185fea",
   "metadata": {},
   "outputs": [
    {
     "name": "stdout",
     "output_type": "stream",
     "text": [
      "5\n",
      "4\n",
      "3\n",
      "2\n",
      "1\n"
     ]
    }
   ],
   "source": [
    "i = 5\n",
    "\n",
    "while (i > 0):\n",
    "    print(i)\n",
    "    i -= 1"
   ]
  },
  {
   "cell_type": "code",
   "execution_count": 2,
   "id": "5476396e-0643-4942-a427-2f461837d5d1",
   "metadata": {},
   "outputs": [
    {
     "name": "stdin",
     "output_type": "stream",
     "text": [
      "Choice:  1\n",
      "Choice:  0\n"
     ]
    }
   ],
   "source": [
    "choice = input(\"Choice: \")\n",
    "\n",
    "while(choice != 0):\n",
    "    choice = int(input(\"Choice: \"))\n"
   ]
  },
  {
   "cell_type": "code",
   "execution_count": 3,
   "id": "ebbfd5d4-1044-41f5-88bd-eb36d4a3ad1c",
   "metadata": {},
   "outputs": [
    {
     "name": "stdin",
     "output_type": "stream",
     "text": [
      "Choice:  5\n"
     ]
    },
    {
     "name": "stdout",
     "output_type": "stream",
     "text": [
      "Invalid choice. Please try again.\n",
      "\n",
      "--- Menu ---\n",
      "1. Option 1\n",
      "2. Option 2\n",
      "3. Option 3\n",
      "0. Exit\n",
      "-------------\n"
     ]
    },
    {
     "name": "stdin",
     "output_type": "stream",
     "text": [
      "Choice:  8\n"
     ]
    },
    {
     "name": "stdout",
     "output_type": "stream",
     "text": [
      "Invalid choice. Please try again.\n",
      "\n",
      "--- Menu ---\n",
      "1. Option 1\n",
      "2. Option 2\n",
      "3. Option 3\n",
      "0. Exit\n",
      "-------------\n"
     ]
    },
    {
     "name": "stdin",
     "output_type": "stream",
     "text": [
      "Choice:  51\n"
     ]
    },
    {
     "name": "stdout",
     "output_type": "stream",
     "text": [
      "Invalid choice. Please try again.\n",
      "\n",
      "--- Menu ---\n",
      "1. Option 1\n",
      "2. Option 2\n",
      "3. Option 3\n",
      "0. Exit\n",
      "-------------\n"
     ]
    },
    {
     "name": "stdin",
     "output_type": "stream",
     "text": [
      "Choice:  1\n"
     ]
    },
    {
     "name": "stdout",
     "output_type": "stream",
     "text": [
      "You chose Option 1!\n",
      "\n",
      "--- Menu ---\n",
      "1. Option 1\n",
      "2. Option 2\n",
      "3. Option 3\n",
      "0. Exit\n",
      "-------------\n"
     ]
    },
    {
     "name": "stdin",
     "output_type": "stream",
     "text": [
      "Choice:  0\n"
     ]
    },
    {
     "name": "stdout",
     "output_type": "stream",
     "text": [
      "Exiting the program...\n"
     ]
    }
   ],
   "source": [
    "def menu():\n",
    "    print(\"\\n--- Menu ---\")\n",
    "    print(\"1. Option 1\")\n",
    "    print(\"2. Option 2\")\n",
    "    print(\"3. Option 3\")\n",
    "    print(\"0. Exit\")\n",
    "    print(\"-------------\")\n",
    "\n",
    "def option_1():\n",
    "    print(\"You chose Option 1!\")\n",
    "\n",
    "def option_2():\n",
    "    print(\"You chose Option 2!\")\n",
    "\n",
    "def option_3():\n",
    "    print(\"You chose Option 3!\")\n",
    "\n",
    "# Main program\n",
    "choice = int(input(\"Choice: \"))  # Get initial choice from user\n",
    "\n",
    "while choice != 0:\n",
    "    if choice == 1:\n",
    "        option_1()\n",
    "    elif choice == 2:\n",
    "        option_2()\n",
    "    elif choice == 3:\n",
    "        option_3()\n",
    "    else:\n",
    "        print(\"Invalid choice. Please try again.\")\n",
    "\n",
    "    menu()  # Show the menu again\n",
    "    choice = int(input(\"Choice: \"))  # Get the new choice from the user\n",
    "\n",
    "print(\"Exiting the program...\")"
   ]
  },
  {
   "cell_type": "code",
   "execution_count": 8,
   "id": "8c66bc8f-63c4-41a8-9e69-1216008f54b2",
   "metadata": {},
   "outputs": [
    {
     "name": "stdout",
     "output_type": "stream",
     "text": [
      "\n",
      "The Menu:\n",
      "    1. View Location\n",
      "    2. Search Location\n",
      "    3. Filter by Region\n",
      "    4. Calculate Distance \n",
      "    5. Total Locations per Region\n",
      "    6. Furthest Distance\n",
      "    7. Quit\n",
      "\n"
     ]
    },
    {
     "name": "stdin",
     "output_type": "stream",
     "text": [
      "Choice:  3\n"
     ]
    },
    {
     "name": "stdout",
     "output_type": "stream",
     "text": [
      "Filter by Location\n",
      "\n",
      "\n"
     ]
    },
    {
     "name": "stdin",
     "output_type": "stream",
     "text": [
      "Your Choice:  7\n"
     ]
    }
   ],
   "source": [
    "print(\"\"\"\n",
    "The Menu:\n",
    "    1. View Location\n",
    "    2. Search Location\n",
    "    3. Filter by Region\n",
    "    4. Calculate Distance \n",
    "    5. Total Locations per Region\n",
    "    6. Furthest Distance\n",
    "    7. Quit\n",
    "\"\"\")\n",
    "\n",
    "try: \n",
    "    choice = int(input(\"Choice: \"))\n",
    "    \n",
    "    while choice != 7:\n",
    "\n",
    "        # View Location\n",
    "        if choice == 1:\n",
    "            print(\"View Location\")\n",
    "\n",
    "        \n",
    "        #Search Location\n",
    "        elif choice == 2:\n",
    "            print(\"Search Location\")\n",
    "\n",
    "        \n",
    "        # Filter by Location\n",
    "        elif choice == 3:\n",
    "            print(\"Filter by Location\")\n",
    "\n",
    "\n",
    "        # Distance between two points\n",
    "        elif choice == 4: \n",
    "            print(\"Calculate Distance\")\n",
    "\n",
    "\n",
    "        # Total Locations per Region\n",
    "        elif choice == 5:\n",
    "            print(\"total Locations per Region\")\n",
    "\n",
    "\n",
    "        # The Furthest Distance in a Region\n",
    "        elif choice == 6:\n",
    "            print(\"Furthest Distance\")\n",
    "            \n",
    "        elif choice == 7: # I don't think this one will be necessary.\n",
    "            print(\"Quit\")\n",
    "\n",
    "\n",
    "        # Default\n",
    "        else: \n",
    "            print(\"Invalid Choice\")\n",
    "        \n",
    "        print(\"\\n\")\n",
    "    \n",
    "        choice = int(input(\"Your Choice: \"))\n",
    "\n",
    "except ValueError: \n",
    "    print(\"Program Terminated. Use Numeric Values Only.\")"
   ]
  },
  {
   "cell_type": "code",
   "execution_count": null,
   "id": "ebac5c8d-af5c-4be5-807f-868b848c8bd6",
   "metadata": {},
   "outputs": [],
   "source": []
  }
 ],
 "metadata": {
  "kernelspec": {
   "display_name": "Python 3 (ipykernel)",
   "language": "python",
   "name": "python3"
  },
  "language_info": {
   "codemirror_mode": {
    "name": "ipython",
    "version": 3
   },
   "file_extension": ".py",
   "mimetype": "text/x-python",
   "name": "python",
   "nbconvert_exporter": "python",
   "pygments_lexer": "ipython3",
   "version": "3.13.0"
  }
 },
 "nbformat": 4,
 "nbformat_minor": 5
}
