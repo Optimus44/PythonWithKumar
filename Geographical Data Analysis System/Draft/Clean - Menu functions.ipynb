{
 "cells": [
  {
   "cell_type": "markdown",
   "id": "d1d71cc9-46b6-4298-aa4d-b4e757a36a29",
   "metadata": {},
   "source": [
    "# Data"
   ]
  },
  {
   "cell_type": "code",
   "execution_count": 16,
   "id": "e97b9bbf-d5ff-4f36-bfc0-d5910fd82b7b",
   "metadata": {},
   "outputs": [],
   "source": [
    "locations = [\n",
    "    {\"id\": \"L001\", \"name\": \"Kigali\", \"region\": \"Central\", \"coordinates\": (-1.9706, 30.1044)},\n",
    "    {\"id\": \"L002\", \"name\": \"Butare\", \"region\": \"Southern\", \"coordinates\": (-2.6013, 29.7494)},\n",
    "    {\"id\": \"L003\", \"name\": \"Musanze\", \"region\": \"Northern\", \"coordinates\": (-1.5021, 29.6831)},\n",
    "    {\"id\": \"L004\", \"name\": \"Rubavu\", \"region\": \"Western\", \"coordinates\": (-1.6872, 29.3737)},\n",
    "    {\"id\": \"L005\", \"name\": \"Nyamata\", \"region\": \"Eastern\", \"coordinates\": (-2.0145, 30.2653)},\n",
    "    {\"id\": \"L006\", \"name\": \"Huye\", \"region\": \"Southern\", \"coordinates\": (-2.9205, 29.7464)},\n",
    "    {\"id\": \"L007\", \"name\": \"Gisenyi\", \"region\": \"Western\", \"coordinates\": (-1.6969, 29.2401)},\n",
    "    {\"id\": \"L008\", \"name\": \"Kayonza\", \"region\": \"Eastern\", \"coordinates\": (-1.6597, 30.4953)},\n",
    "    {\"id\": \"L009\", \"name\": \"Ruhengeri\", \"region\": \"Northern\", \"coordinates\": (-1.4975, 29.6783)},\n",
    "    {\"id\": \"L010\", \"name\": \"Gicumbi\", \"region\": \"Northern\", \"coordinates\": (-1.6549, 29.8119)}\n",
    "]"
   ]
  },
  {
   "cell_type": "markdown",
   "id": "c59838b4-165c-46b5-a838-183c00a2d7ef",
   "metadata": {},
   "source": [
    "# 2. View Locations"
   ]
  },
  {
   "cell_type": "code",
   "execution_count": 17,
   "id": "55cf12e5-b6a4-43f9-8c18-f649b4ade20c",
   "metadata": {},
   "outputs": [],
   "source": [
    "def view_location(a_list):\n",
    "    \"\"\"\n",
    "    Receives a list of locations and displays them in a clean format.\n",
    "    \"\"\"\n",
    "    for location in a_list:\n",
    "        print(f\"ID: {location['id']}, \"\n",
    "              f\"Name: {location['name']}, \"\n",
    "              f\"Region: {location['region']}, \"\n",
    "              f\"Coordinates: {location['coordinates']}\")"
   ]
  },
  {
   "cell_type": "markdown",
   "id": "1fce50f2-4815-4fbe-b52c-b870409bbb66",
   "metadata": {},
   "source": [
    "# 3. Search Location"
   ]
  },
  {
   "cell_type": "code",
   "execution_count": 18,
   "id": "5241abb7-007b-4dca-9f74-2ee0cecac16c",
   "metadata": {},
   "outputs": [],
   "source": [
    "def search_location(locations, location_id):\n",
    "    \"\"\" \n",
    "    Takes a list of locations and a location ID to search for in the given list.\n",
    "    \n",
    "    :param locations: A list of locations\n",
    "    :type locations: list[dict]\n",
    "    \n",
    "    :param location_id: Unique identifier of the location to be searched\n",
    "    :type location_id: str\n",
    "    \n",
    "    :return: The location as a dictionary, or a NoneType object if the location is not found.\n",
    "    :rtype: dict or NoneType\n",
    "    \n",
    "    \"\"\"\n",
    "    for location in locations:\n",
    "        if location['id'] == location_id:\n",
    "            return location\n",
    "    return None"
   ]
  },
  {
   "cell_type": "markdown",
   "id": "b2c04467-65ca-403e-81cd-5f2c7f9227a6",
   "metadata": {},
   "source": [
    "# 4. Distance Between Locations"
   ]
  },
  {
   "cell_type": "code",
   "execution_count": 19,
   "id": "2b0c944e-b37c-4d85-8c6a-6fd143021820",
   "metadata": {},
   "outputs": [],
   "source": [
    "def calculate_distance(point_a, point_b):\n",
    "    \"\"\"\n",
    "    Receive two coordinates and calculates the distance between them using a simple Euclidean Distance Formula\n",
    "\n",
    "    :param point_a: Location 1 coordinates.\n",
    "    :type point_a: tuple\n",
    "\n",
    "    :param point_b: Location 2 coordinates.\n",
    "    :type point_b: tuple\n",
    "\n",
    "    :return: Return the calculated distance between the two given points\n",
    "    :rtype: float\n",
    "    \"\"\"\n",
    "    return (((point_a[0] - point_b[0]) ** 2 + (point_a[1] - point_b[1]) ** 2 ) ** 0.5) * 111"
   ]
  },
  {
   "cell_type": "markdown",
   "id": "ef8cb00a-8427-45d0-b0d9-e3ff39281eb5",
   "metadata": {},
   "source": [
    "# 5. Filtering"
   ]
  },
  {
   "cell_type": "code",
   "execution_count": 20,
   "id": "b7f1ef8c-7456-41b5-b60b-b0647433693e",
   "metadata": {},
   "outputs": [],
   "source": [
    "def filter_by_region(locations, region):\n",
    "    \"\"\"\n",
    "    Takes a list of locations and a region and return a new list of locations from the specified region.\n",
    "\n",
    "    :param locations: A list of locations\n",
    "    :type locations: list[dict]\n",
    "    \n",
    "    :param region: A geographical region\n",
    "    :type region: str\n",
    "\n",
    "    :return: A list with locations from the specified region\n",
    "    :rtype: list[dict]\n",
    "    \n",
    "    \"\"\"\n",
    "    filtered_locations = []\n",
    "    for location in locations:\n",
    "        if location['region'] == region:\n",
    "            filtered_locations.append(location)\n",
    "    return filtered_locations"
   ]
  },
  {
   "cell_type": "markdown",
   "id": "20cfd863-d89c-4c73-a146-3f42680a2e91",
   "metadata": {},
   "source": [
    "# 6. Total Locations in a Region"
   ]
  },
  {
   "cell_type": "code",
   "execution_count": 21,
   "id": "d8e9f8b0-232d-44e1-a6ff-1de2b78640e2",
   "metadata": {},
   "outputs": [],
   "source": [
    "def total_locations(locations, region):\n",
    "    # Filter by Region\n",
    "    filtered_list = filter_by_region(locations, region)\n",
    "    return len(filtered_list)"
   ]
  },
  {
   "cell_type": "markdown",
   "id": "09ef8e1d-6089-463b-83bf-2c226f36c196",
   "metadata": {},
   "source": [
    "# 7. Furthest Distance "
   ]
  },
  {
   "cell_type": "code",
   "execution_count": 22,
   "id": "5065a4eb-9b74-4a17-9771-34aa1df1f41a",
   "metadata": {},
   "outputs": [],
   "source": [
    "def furthest_distance(list_of_locations):\n",
    "    # This should receive a filtered location_list\n",
    "    i = 0\n",
    "    farthest_distance = 0\n",
    "    for point_a in list_of_locations:\n",
    "        i += 1\n",
    "        for point_b in list_of_locations[i:]:\n",
    "            distance = calculate_distance(point_a['coordinates'], point_b['coordinates'])\n",
    "            if distance > farthest_distance:\n",
    "                farthest_distance = distance\n",
    "                location_1 = point_a\n",
    "                location_2 = point_b\n",
    "\n",
    "    return farthest_distance, location_1, location_2"
   ]
  },
  {
   "cell_type": "markdown",
   "id": "975b61bf-47cc-481e-8e11-ff8aa75480a3",
   "metadata": {},
   "source": [
    "# Interactive Menu"
   ]
  },
  {
   "cell_type": "markdown",
   "id": "ac5f901c-80fc-4a1a-bdd3-0b2b833d6879",
   "metadata": {},
   "source": [
    "## Put the codes in functions"
   ]
  },
  {
   "cell_type": "markdown",
   "id": "6814540d-9b8a-467e-8843-5e5fa0f3b88f",
   "metadata": {},
   "source": [
    "### 1. View Data\n",
    "\n",
    "This one doesn't really need a function."
   ]
  },
  {
   "cell_type": "markdown",
   "id": "fd6f1b8c-f01f-4451-a536-32d26989b34f",
   "metadata": {},
   "source": [
    "### 2. Search Location"
   ]
  },
  {
   "cell_type": "code",
   "execution_count": 40,
   "id": "9cab2ef8-0bc0-4737-a77d-c6640ac26fc8",
   "metadata": {},
   "outputs": [],
   "source": [
    "def searching():\n",
    "    print(\"Search Location\")\n",
    "    location_id = input(\"Enter Location ID to search: \")\n",
    "    the_location = search_location(locations, location_id)\n",
    "\n",
    "    if the_location:\n",
    "        print(\"\\nLocation Found: \")\n",
    "        print(f\"ID: {the_location['id']}, \"\n",
    "            f\"Name: {the_location['name']}, \"\n",
    "            f\"Region: {the_location['region']}, \"\n",
    "            f\"Coordinates: {the_location['coordinates']}\")\n",
    "    else: \n",
    "        print(\"\\nLocation Not Found!\")"
   ]
  },
  {
   "cell_type": "markdown",
   "id": "0279a38d-1464-46aa-ab0b-97351e2a8b1b",
   "metadata": {},
   "source": [
    "### 3. Filter by Region"
   ]
  },
  {
   "cell_type": "code",
   "execution_count": 41,
   "id": "396bf44c-f005-44cb-895b-76b679305e16",
   "metadata": {},
   "outputs": [],
   "source": [
    "def filtering():\n",
    "    print(\"Filter by Region\")\n",
    "    region = input(\"Enter Region: \")\n",
    "    filtered_list = filter_by_region(locations, region)\n",
    "\n",
    "    if filtered_list: \n",
    "        print(f\"\\n{len(filtered_list)} locations found: \") \n",
    "        view_location(filtered_list)\n",
    "    else: \n",
    "        print(\"\\n Region Not Found!\")"
   ]
  },
  {
   "cell_type": "markdown",
   "id": "c0a8c416-38ab-4cbc-ba75-3a8f6648cd9f",
   "metadata": {},
   "source": [
    "### 4. Two point distance"
   ]
  },
  {
   "cell_type": "code",
   "execution_count": 42,
   "id": "6ec5183c-740e-4d55-88ee-054543b23700",
   "metadata": {},
   "outputs": [],
   "source": [
    "def two_locations_distance():\n",
    "    print(\"Calculate Distance\")\n",
    "    location_1 = input(\"First Location ID: \")\n",
    "    location_2 = input(\"Second Location ID: \")\n",
    "\n",
    "    # Search for the locations - returns NONE if no found.\n",
    "    first_location = search_location(locations, location_1)\n",
    "    second_location = search_location(locations, location_2)\n",
    "\n",
    "    # Check if the locations are found, both of them.\n",
    "    if first_location and second_location: \n",
    "        # Get the coordinates\n",
    "        point_a = first_location['coordinates']\n",
    "        point_b = second_location['coordinates']\n",
    "        \n",
    "        print(f\"Distance between {first_location['name']} and {second_location['name']} is {calculate_distance(point_a, point_b)} km\")\n",
    "        \n",
    "    else: \n",
    "        # Check which location not found to provide a specific message to the user:\n",
    "        if not first_location and second_location:\n",
    "            print(f\"Location with ID: {location_1} was not found\")\n",
    "            \n",
    "        elif first_location and not second_location:\n",
    "            print(f\"Location with ID: {location_2} was not found\")\n",
    "            \n",
    "        else: \n",
    "            print(\"No location found\")"
   ]
  },
  {
   "cell_type": "markdown",
   "id": "43ade015-f86c-4973-b43a-79e0e6c0b24c",
   "metadata": {},
   "source": [
    "### 5. locations in a region"
   ]
  },
  {
   "cell_type": "code",
   "execution_count": 43,
   "id": "503e7ad3-9a87-4c5e-a19c-0769067272b7",
   "metadata": {},
   "outputs": [],
   "source": [
    "def locations_in_region():\n",
    "    print(\"total Locations per Region\")\n",
    "    region = input(\"Enter the Region: \")\n",
    "    \n",
    "    # Filter by Region\n",
    "    region_locations = filter_by_region(locations, region)\n",
    "    if region_locations: \n",
    "        print(f\"\\nThe {region} region has {len(region_locations)} locations.\")\n",
    "    else: \n",
    "        print(\"\\nRegion not Found\")"
   ]
  },
  {
   "cell_type": "markdown",
   "id": "ad47bf90-7bd1-412c-9b7c-6c259b340005",
   "metadata": {},
   "source": [
    "### 6. Furthest Distance"
   ]
  },
  {
   "cell_type": "code",
   "execution_count": 44,
   "id": "9472e667-7f8e-4ff0-b3b2-f2f99b82df28",
   "metadata": {},
   "outputs": [],
   "source": [
    "def furthest_in_region():\n",
    "    print(\"Furthest Distance\")\n",
    "    region = input(\"Region: \")\n",
    "    filtered_list = filter_by_region(locations, region)\n",
    "    if filtered_list:\n",
    "        farthest, location1, location2 = furthest_distance(filtered_list) # Tuple unpacking.\n",
    "        print(f\"Farthest: {farthest} between {location1['name']} and {location2['name']}\")\n",
    "    else: \n",
    "        print(\"\\nProgram Terminated: Location not Found\")"
   ]
  },
  {
   "cell_type": "markdown",
   "id": "79a837c9-15b3-4d54-b90d-c8df558c4abd",
   "metadata": {},
   "source": [
    "# The Menu"
   ]
  },
  {
   "cell_type": "code",
   "execution_count": 46,
   "id": "41e0d56d-80f9-4f25-9d78-177b8aa200eb",
   "metadata": {},
   "outputs": [
    {
     "name": "stdout",
     "output_type": "stream",
     "text": [
      "\n",
      "The Menu:\n",
      "    1. View Locations\n",
      "    2. Search Location\n",
      "    3. Filter by Region\n",
      "    4. Calculate Distance \n",
      "    5. Total Locations per Region\n",
      "    6. Furthest Distance\n",
      "    7. Quit\n",
      "\n"
     ]
    },
    {
     "name": "stdin",
     "output_type": "stream",
     "text": [
      "Choice:  3\n"
     ]
    },
    {
     "name": "stdout",
     "output_type": "stream",
     "text": [
      "Filter by Region\n"
     ]
    },
    {
     "name": "stdin",
     "output_type": "stream",
     "text": [
      "Enter Region:  Northern\n"
     ]
    },
    {
     "name": "stdout",
     "output_type": "stream",
     "text": [
      "\n",
      "3 locations found: \n",
      "ID: L003, Name: Musanze, Region: Northern, Coordinates: (-1.5021, 29.6831)\n",
      "ID: L009, Name: Ruhengeri, Region: Northern, Coordinates: (-1.4975, 29.6783)\n",
      "ID: L010, Name: Gicumbi, Region: Northern, Coordinates: (-1.6549, 29.8119)\n",
      "\n",
      "\n"
     ]
    },
    {
     "name": "stdin",
     "output_type": "stream",
     "text": [
      "Your Choice:  adfs\n"
     ]
    },
    {
     "name": "stdout",
     "output_type": "stream",
     "text": [
      "Program Terminated. Use Numeric Values Only.\n"
     ]
    }
   ],
   "source": [
    "print(\"\"\"\n",
    "The Menu:\n",
    "    1. View Locations\n",
    "    2. Search Location\n",
    "    3. Filter by Region\n",
    "    4. Calculate Distance \n",
    "    5. Total Locations per Region\n",
    "    6. Furthest Distance\n",
    "    7. Quit\n",
    "\"\"\")\n",
    "\n",
    "try: \n",
    "    choice = int(input(\"Choice: \"))\n",
    "    \n",
    "    while choice != 7:\n",
    "\n",
    "        # View Location\n",
    "        if choice == 1:\n",
    "            view_location(locations)\n",
    "\n",
    "        \n",
    "        #Search Location\n",
    "        elif choice == 2:\n",
    "            searching()\n",
    "\n",
    "        \n",
    "        # Filter by Region\n",
    "        elif choice == 3:\n",
    "            filtering()\n",
    "\n",
    "\n",
    "        # Distance between two point.\n",
    "        elif choice == 4: \n",
    "            two_locations_distance()\n",
    "                \n",
    "\n",
    "        # Total Locations per Region\n",
    "        elif choice == 5:\n",
    "            locations_in_region()\n",
    "            \n",
    "\n",
    "        # The Furthest Distance in a Region\n",
    "        elif choice == 6:\n",
    "            furthest_in_region()\n",
    "            \n",
    "        elif choice == 7: # I don't think this one will be necessary.\n",
    "            print(\"Quit\")\n",
    "\n",
    "\n",
    "        # Default\n",
    "        else: \n",
    "            print(\"Invalid Choice\")\n",
    "\n",
    "        \n",
    "        print(\"\\n\")\n",
    "        choice = int(input(\"Your Choice: \"))\n",
    "\n",
    "    print(\"Program Quit!\")\n",
    "\n",
    "except ValueError: \n",
    "    print(\"Program Terminated. Use Numeric Values Only.\")"
   ]
  },
  {
   "cell_type": "code",
   "execution_count": null,
   "id": "f94c766a-5fe1-4907-981c-bcca061ec48d",
   "metadata": {},
   "outputs": [],
   "source": []
  }
 ],
 "metadata": {
  "kernelspec": {
   "display_name": "Python 3 (ipykernel)",
   "language": "python",
   "name": "python3"
  },
  "language_info": {
   "codemirror_mode": {
    "name": "ipython",
    "version": 3
   },
   "file_extension": ".py",
   "mimetype": "text/x-python",
   "name": "python",
   "nbconvert_exporter": "python",
   "pygments_lexer": "ipython3",
   "version": "3.13.0"
  }
 },
 "nbformat": 4,
 "nbformat_minor": 5
}
