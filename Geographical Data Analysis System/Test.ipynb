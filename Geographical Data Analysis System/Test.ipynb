{
 "cells": [
  {
   "cell_type": "code",
   "id": "initial_id",
   "metadata": {
    "ExecuteTime": {
     "end_time": "2024-12-24T17:10:30.355127Z",
     "start_time": "2024-12-24T17:10:30.348919Z"
    }
   },
   "source": [
    "from prompt_toolkit.key_binding.bindings.emacs import load_emacs_search_bindings\n",
    "\n",
    "locations = [\n",
    "    {\"id\": \"L001\", \"name\": \"Kigali\", \"region\": \"Central\", \"coordinates\": (-1.9706, 30.1044)},\n",
    "    {\"id\": \"L002\", \"name\": \"Butare\", \"region\": \"Southern\", \"coordinates\": (-2.6013, 29.7494)},\n",
    "    {\"id\": \"L003\", \"name\": \"Musanze\", \"region\": \"Northern\", \"coordinates\": (-1.5021, 29.6831)},\n",
    "    {\"id\": \"L004\", \"name\": \"Rubavu\", \"region\": \"Western\", \"coordinates\": (-1.6872, 29.3737)},\n",
    "    {\"id\": \"L005\", \"name\": \"Nyamata\", \"region\": \"Eastern\", \"coordinates\": (-2.0145, 30.2653)},\n",
    "    {\"id\": \"L006\", \"name\": \"Huye\", \"region\": \"Southern\", \"coordinates\": (-2.9205, 29.7464)},\n",
    "    {\"id\": \"L007\", \"name\": \"Gisenyi\", \"region\": \"Western\", \"coordinates\": (-1.6969, 29.2401)},\n",
    "    {\"id\": \"L008\", \"name\": \"Kayonza\", \"region\": \"Eastern\", \"coordinates\": (-1.6597, 30.4953)},\n",
    "    {\"id\": \"L009\", \"name\": \"Ruhengeri\", \"region\": \"Northern\", \"coordinates\": (-1.4975, 29.6783)},\n",
    "    {\"id\": \"L010\", \"name\": \"Gicumbi\", \"region\": \"Northern\", \"coordinates\": (-1.6549, 29.8119)}\n",
    "]"
   ],
   "outputs": [],
   "execution_count": 3
  },
  {
   "cell_type": "markdown",
   "id": "f56f7f2f-33f7-486b-bca0-37a88b57573d",
   "metadata": {
    "ExecuteTime": {
     "end_time": "2024-12-24T12:14:45.695797Z",
     "start_time": "2024-12-24T12:14:45.693161Z"
    }
   },
   "source": [
    "# View Locations"
   ]
  },
  {
   "cell_type": "code",
   "execution_count": 10,
   "id": "e8e152cb-faa0-4a7c-a67a-368fb1781cb5",
   "metadata": {},
   "outputs": [
    {
     "name": "stdout",
     "output_type": "stream",
     "text": [
      "ID: L001, Name: Kigali, Region: Central, Coordinates: (-1.9706, 30.1044)\n",
      "ID: L002, Name: Butare, Region: Southern, Coordinates: (-2.6013, 29.7494)\n",
      "ID: L003, Name: Musanze, Region: Northern, Coordinates: (-1.5021, 29.6831)\n",
      "ID: L004, Name: Rubavu, Region: Western, Coordinates: (-1.6872, 29.3737)\n",
      "ID: L005, Name: Nyamata, Region: Eastern, Coordinates: (-2.0145, 30.2653)\n",
      "ID: L006, Name: Huye, Region: Southern, Coordinates: (-2.9205, 29.7464)\n",
      "ID: L007, Name: Gisenyi, Region: Western, Coordinates: (-1.6969, 29.2401)\n",
      "ID: L008, Name: Kayonza, Region: Eastern, Coordinates: (-1.6597, 30.4953)\n",
      "ID: L009, Name: Ruhengeri, Region: Northern, Coordinates: (-1.4975, 29.6783)\n",
      "ID: L010, Name: Gicumbi, Region: Northern, Coordinates: (-1.6549, 29.8119)\n"
     ]
    }
   ],
   "source": [
    "from geo_analysis.DataHandling import view_locations\n",
    "\n",
    "view_locations(locations)"
   ]
  },
  {
   "cell_type": "markdown",
   "id": "5f6b058d-9645-4938-9546-bbe6a10dc6c3",
   "metadata": {
    "ExecuteTime": {
     "end_time": "2024-12-24T12:14:55.851190Z",
     "start_time": "2024-12-24T12:14:55.847577Z"
    }
   },
   "source": [
    "# Search Location"
   ]
  },
  {
   "cell_type": "code",
   "execution_count": 13,
   "id": "6eee3768-4014-4b94-b4a3-738536dddb1e",
   "metadata": {},
   "outputs": [
    {
     "name": "stdin",
     "output_type": "stream",
     "text": [
      "Enter a location ID:  L004\n"
     ]
    },
    {
     "name": "stdout",
     "output_type": "stream",
     "text": [
      "ID: L004, Name: Rubavu, Region: Western, Coordinates: (-1.6872, 29.3737)\n"
     ]
    }
   ],
   "source": [
    "from geo_analysis.DataHandling import search_location\n",
    "\n",
    "location_id = input(\"Enter a location ID: \")\n",
    "\n",
    "search_location(locations, location_id)"
   ]
  },
  {
   "cell_type": "markdown",
   "id": "e5c4e591-8ef5-491e-acd8-597576bfa768",
   "metadata": {
    "ExecuteTime": {
     "end_time": "2024-12-24T12:15:06.695945Z",
     "start_time": "2024-12-24T12:15:06.692783Z"
    }
   },
   "source": [
    "# Filter by Regions"
   ]
  },
  {
   "cell_type": "code",
   "execution_count": 47,
   "id": "583e1887-029d-4fb9-83fd-7b07b51092dd",
   "metadata": {
    "ExecuteTime": {
     "end_time": "2024-12-24T12:21:28.083972Z",
     "start_time": "2024-12-24T12:21:23.475434Z"
    }
   },
   "outputs": [
    {
     "name": "stdin",
     "output_type": "stream",
     "text": [
      "Filter by Region:  we\n"
     ]
    },
    {
     "name": "stdout",
     "output_type": "stream",
     "text": [
      "No locations found in this region.\n"
     ]
    }
   ],
   "source": [
    "from geo_analysis.Filtering import filter_by_region\n",
    "\n",
    "region = input(\"Filter by Region: \")\n",
    "\n",
    "filter_by_region(locations, region)"
   ]
  },
  {
   "cell_type": "markdown",
   "id": "9404d8a3-3be2-428b-9a85-c99025a58c6f",
   "metadata": {},
   "source": [
    "# Calculate Distance"
   ]
  },
  {
   "cell_type": "code",
   "execution_count": 5,
   "id": "074efc1a-d240-4112-8ce4-7d40544cb16f",
   "metadata": {
    "ExecuteTime": {
     "end_time": "2024-12-24T13:44:09.025266Z",
     "start_time": "2024-12-24T13:44:09.008461Z"
    }
   },
   "outputs": [
    {
     "name": "stdout",
     "output_type": "stream",
     "text": [
      "80.33574599323751\n"
     ]
    }
   ],
   "source": [
    "from geo_analysis.DistanceCalculation import calculate_distance\n",
    "\n",
    "point_a = locations[0]['coordinates']\n",
    "point_b = locations[1]['coordinates']\n",
    "\n",
    "print(calculate_distance(point_a, point_b))"
   ]
  },
  {
   "cell_type": "code",
   "id": "e86a964e-9afc-4f52-a2f1-f0b777fc85fd",
   "metadata": {
    "ExecuteTime": {
     "end_time": "2024-12-24T14:43:44.207807Z",
     "start_time": "2024-12-24T14:43:44.198391Z"
    }
   },
   "source": "# Region Insights",
   "outputs": [],
   "execution_count": 8
  },
  {
   "cell_type": "code",
   "id": "68cd4a0d-99b3-4118-9539-1f6a7ceb66bd",
   "metadata": {
    "ExecuteTime": {
     "end_time": "2024-12-24T14:45:59.027649Z",
     "start_time": "2024-12-24T14:45:59.014625Z"
    }
   },
   "source": [
    "# Know how many regions we have in our data\n",
    "# We are going to use list to use a set for the feature of not allowing duplicates.\n",
    "\n",
    "regions = set()\n",
    "\n",
    "for location in locations:\n",
    "    regions.add(location['region'])\n",
    "\n",
    "print(regions)"
   ],
   "outputs": [
    {
     "name": "stdout",
     "output_type": "stream",
     "text": [
      "{'Eastern', 'Southern', 'Northern', 'Western', 'Central'}\n"
     ]
    }
   ],
   "execution_count": 9
  },
  {
   "metadata": {
    "ExecuteTime": {
     "end_time": "2024-12-24T14:49:48.405484Z",
     "start_time": "2024-12-24T14:49:48.400875Z"
    }
   },
   "cell_type": "code",
   "source": [
    "from geo_analysis.DataHandling import view_locations\n",
    "\n",
    "view_locations(locations)"
   ],
   "id": "26e475ab0a3377ed",
   "outputs": [
    {
     "name": "stdout",
     "output_type": "stream",
     "text": [
      "ID: L001, Name: Kigali, Region: Central, Coordinates: (-1.9706, 30.1044)\n",
      "ID: L002, Name: Butare, Region: Southern, Coordinates: (-2.6013, 29.7494)\n",
      "ID: L003, Name: Musanze, Region: Northern, Coordinates: (-1.5021, 29.6831)\n",
      "ID: L004, Name: Rubavu, Region: Western, Coordinates: (-1.6872, 29.3737)\n",
      "ID: L005, Name: Nyamata, Region: Eastern, Coordinates: (-2.0145, 30.2653)\n",
      "ID: L006, Name: Huye, Region: Southern, Coordinates: (-2.9205, 29.7464)\n",
      "ID: L007, Name: Gisenyi, Region: Western, Coordinates: (-1.6969, 29.2401)\n",
      "ID: L008, Name: Kayonza, Region: Eastern, Coordinates: (-1.6597, 30.4953)\n",
      "ID: L009, Name: Ruhengeri, Region: Northern, Coordinates: (-1.4975, 29.6783)\n",
      "ID: L010, Name: Gicumbi, Region: Northern, Coordinates: (-1.6549, 29.8119)\n"
     ]
    }
   ],
   "execution_count": 12
  },
  {
   "metadata": {
    "ExecuteTime": {
     "end_time": "2024-12-24T15:02:20.060949Z",
     "start_time": "2024-12-24T15:02:20.057206Z"
    }
   },
   "cell_type": "code",
   "source": [
    "from geo_analysis.Insights import total_regions\n",
    "\n",
    "total_regions(locations)"
   ],
   "id": "44013c5a272b696d",
   "outputs": [
    {
     "name": "stdout",
     "output_type": "stream",
     "text": [
      "East:  2\n",
      "West:  2\n",
      "North:  3\n",
      "South:  2\n",
      "Central:  1\n"
     ]
    }
   ],
   "execution_count": 15
  },
  {
   "metadata": {
    "ExecuteTime": {
     "end_time": "2024-12-24T15:02:27.923276Z",
     "start_time": "2024-12-24T15:02:27.916278Z"
    }
   },
   "cell_type": "code",
   "source": [
    "from geo_analysis.Insights import total_regions\n",
    "\n",
    "total_regions(locations)"
   ],
   "id": "40e480fbbeac3687",
   "outputs": [
    {
     "name": "stdout",
     "output_type": "stream",
     "text": [
      "East:  2\n",
      "West:  2\n",
      "North:  3\n",
      "South:  2\n",
      "Central:  1\n"
     ]
    }
   ],
   "execution_count": 16
  },
  {
   "metadata": {},
   "cell_type": "markdown",
   "source": "# Furthest Distance",
   "id": "69ad862fe827864"
  },
  {
   "metadata": {
    "ExecuteTime": {
     "end_time": "2024-12-24T17:04:09.530692Z",
     "start_time": "2024-12-24T17:04:09.522968Z"
    }
   },
   "cell_type": "code",
   "source": [
    "region = 'Northern'\n",
    "print(filter_by_region(locations, region))"
   ],
   "id": "3ba03477ef9a1b6",
   "outputs": [
    {
     "name": "stdout",
     "output_type": "stream",
     "text": [
      "ID: L003, Name: Musanze, Region: Northern, Coordinates: (-1.5021, 29.6831)\n",
      "ID: L009, Name: Ruhengeri, Region: Northern, Coordinates: (-1.4975, 29.6783)\n",
      "ID: L010, Name: Gicumbi, Region: Northern, Coordinates: (-1.6549, 29.8119)\n",
      "None\n"
     ]
    }
   ],
   "execution_count": 18
  },
  {
   "metadata": {
    "ExecuteTime": {
     "end_time": "2024-12-24T17:10:44.550963Z",
     "start_time": "2024-12-24T17:10:44.544164Z"
    }
   },
   "cell_type": "code",
   "source": [
    "from geo_analysis.Insights import furthest_distance\n",
    "from geo_analysis.Filtering import filter_by_region\n",
    "\n",
    "region = 'Northern'\n",
    "print(furthest_distance(filter_by_region(locations, region)))"
   ],
   "id": "6d5be6c71d1d063",
   "outputs": [
    {
     "name": "stdout",
     "output_type": "stream",
     "text": [
      "22.916519240931947\n"
     ]
    }
   ],
   "execution_count": 5
  },
  {
   "metadata": {},
   "cell_type": "code",
   "outputs": [],
   "execution_count": null,
   "source": "",
   "id": "bedd902e86a585ed"
  }
 ],
 "metadata": {
  "kernelspec": {
   "display_name": "Python 3 (ipykernel)",
   "language": "python",
   "name": "python3"
  },
  "language_info": {
   "codemirror_mode": {
    "name": "ipython",
    "version": 3
   },
   "file_extension": ".py",
   "mimetype": "text/x-python",
   "name": "python",
   "nbconvert_exporter": "python",
   "pygments_lexer": "ipython3",
   "version": "3.12.4"
  }
 },
 "nbformat": 4,
 "nbformat_minor": 5
}
